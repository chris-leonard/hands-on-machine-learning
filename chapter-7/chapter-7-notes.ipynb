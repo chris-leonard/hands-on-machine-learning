{
 "cells": [
  {
   "cell_type": "markdown",
   "id": "5ffafb1a-d826-4ef7-8a77-a3c468152793",
   "metadata": {},
   "source": [
    "# 7. Ensemble Learning and Random Forests\n",
    "\n",
    "- A group of predictors is called an *ensemble*\n",
    "- Aggregating the predictions of an ensemble is called *ensemble learning*\n",
    "- An ensemble learning algorithm is called an *ensemble method*"
   ]
  },
  {
   "cell_type": "code",
   "execution_count": 1,
   "id": "5029dd66-6bc6-4656-8400-69867fcefd50",
   "metadata": {},
   "outputs": [],
   "source": [
    "import numpy as np\n",
    "import pandas as pd\n",
    "from matplotlib import pyplot as plt"
   ]
  },
  {
   "cell_type": "markdown",
   "id": "600f6f28-2294-4a9c-b557-3ae9afd2fbc6",
   "metadata": {},
   "source": [
    "## Voting Classifiers\n",
    "\n",
    "- Given a ensemble of classifiers, a *hard voting* classifier predicts the class that has the most 'votes' among the individual classifiers\n",
    "- A *soft voting* classifier predicts the class which the highest class probability, averaged over the individual classifiers\n",
    "- Soft voting gives more weight to confident votes so is more accurate, but requires each individual classifier to estimate class probabilities\n",
    "- Even if the individual classifiers are *weak learners* (low accuracy), the ensemble can be a *strong learner* (high accuracy)\n",
    "- Voting classifiers work best if the individual classifiers are indepedent, making uncorrelated errors - this is not the case in practice because the are trained on the same data so are likely to make the same errors\n",
    "- To approximate independence it is best to use diverse classifiers trained using very different algorithms, so they make diverse errors"
   ]
  },
  {
   "cell_type": "code",
   "execution_count": 106,
   "id": "34f8dfc3-82ca-4ed2-94dd-d16ef39b30a3",
   "metadata": {},
   "outputs": [],
   "source": [
    "from sklearn.datasets import make_moons\n",
    "from sklearn.svm import SVC\n",
    "from sklearn.linear_model import LogisticRegression\n",
    "from sklearn.ensemble import RandomForestClassifier, VotingClassifier\n",
    "from sklearn.model_selection import StratifiedShuffleSplit\n",
    "from sklearn.metrics import accuracy_score\n",
    "\n",
    "# generate sample data - 2 interleaving half circles\n",
    "X, y = make_moons(n_samples=200, noise=0.3, random_state=42)\n",
    "\n",
    "# split into train and test sets, preserving prooprtion of each class\n",
    "split = StratifiedShuffleSplit(n_splits=1, test_size=0.2, random_state=42)\n",
    "\n",
    "for train_index, test_index in split.split(X, y):\n",
    "    X_train = X[train_index]\n",
    "    y_train = y[train_index]\n",
    "\n",
    "    X_test = X[test_index]\n",
    "    y_test = y[test_index]"
   ]
  },
  {
   "cell_type": "code",
   "execution_count": 107,
   "id": "87e9b8f0-2a1b-4c9a-a0a1-c0e0bcec4429",
   "metadata": {},
   "outputs": [
    {
     "data": {
      "image/png": "[encoded data removed]",
      "text/plain": [
       "<Figure size 1080x576 with 1 Axes>"
      ]
     },
     "metadata": {
      "needs_background": "light"
     },
     "output_type": "display_data"
    }
   ],
   "source": [
    "def plot_binary_data(X, y):\n",
    "    plt.scatter(\n",
    "        X[:, 0][y == 1],\n",
    "        X[:, 1][y == 1],\n",
    "        marker=\"^\",\n",
    "        color=\"green\",\n",
    "    )\n",
    "    plt.scatter(\n",
    "        X[:, 0][y == 0],\n",
    "        X[:, 1][y == 0],\n",
    "        marker=\"s\",\n",
    "        color=\"purple\",\n",
    "    )\n",
    "\n",
    "\n",
    "fig, ax = plt.subplots(figsize=(15, 8))\n",
    "\n",
    "plot_binary_data(X_train, y_train)\n",
    "\n",
    "ax.set_xlabel(\"$x_0$\")\n",
    "ax.set_ylabel(\"$x_1$\")\n",
    "\n",
    "ax.set_title(\"Moons Data\");"
   ]
  },
  {
   "cell_type": "code",
   "execution_count": 108,
   "id": "772573f3-6a49-4447-9c78-39304d4aab4b",
   "metadata": {},
   "outputs": [],
   "source": [
    "svc_clf = SVC(probability=True, kernel=\"linear\", gamma=\"scale\", random_state=42)\n",
    "log_clf = LogisticRegression(solver=\"lbfgs\", random_state=42)\n",
    "for_clf = RandomForestClassifier(n_estimators=100, random_state=42)\n",
    "\n",
    "estimators = [\n",
    "    (\"log\", log_clf),\n",
    "    (\"svc\", svc_clf),\n",
    "    (\"for\", for_clf)\n",
    "]\n",
    "\n",
    "hard_vote_clf = VotingClassifier(estimators=estimators, voting=\"hard\")\n",
    "soft_vote_clf = VotingClassifier(estimators=estimators, voting=\"hard\")\n",
    "\n",
    "hard_vote_clf.fit(X_train, y_train)\n",
    "soft_vote_clf.fit(X_train, y_train);"
   ]
  },
  {
   "cell_type": "code",
   "execution_count": 109,
   "id": "fbe056fe-274a-4ac4-ac51-b89f55033183",
   "metadata": {},
   "outputs": [
    {
     "name": "stdout",
     "output_type": "stream",
     "text": [
      "LogisticRegression :  0.875\n",
      "SVC :  0.875\n",
      "RandomForestClassifier :  0.85\n",
      "HardVoting:  0.9\n",
      "SoftVoting:  0.9\n"
     ]
    }
   ],
   "source": [
    "# VotingClassifier clones the estimators and stores them in estimators_\n",
    "for clf in hard_vote_clf.estimators_:\n",
    "    y_pred = clf.predict(X_test)\n",
    "    print(clf.__class__.__name__, \": \", accuracy_score(y_test, y_pred))\n",
    "\n",
    "y_pred = hard_vote_clf.predict(X_test)\n",
    "print(\"HardVoting: \", accuracy_score(y_test, y_pred))\n",
    "\n",
    "y_pred = soft_vote_clf.predict(X_test)\n",
    "print(\"SoftVoting: \", accuracy_score(y_test, y_pred))"
   ]
  },
  {
   "cell_type": "markdown",
   "id": "11ab7c16-2ff1-4f07-9f2f-305bbb2455a9",
   "metadata": {},
   "source": [
    "In this case hard and soft voting give the same result in this case, but you get the idea."
   ]
  },
  {
   "cell_type": "code",
   "execution_count": null,
   "id": "3df51579-8ff7-4135-ac31-9101a43533ff",
   "metadata": {},
   "outputs": [],
   "source": []
  }
 ],
 "metadata": {
  "kernelspec": {
   "display_name": "Python 3",
   "language": "python",
   "name": "python3"
  },
  "language_info": {
   "codemirror_mode": {
    "name": "ipython",
    "version": 3
   },
   "file_extension": ".py",
   "mimetype": "text/x-python",
   "name": "python",
   "nbconvert_exporter": "python",
   "pygments_lexer": "ipython3",
   "version": "3.7.7"
  }
 },
 "nbformat": 4,
 "nbformat_minor": 5
}
