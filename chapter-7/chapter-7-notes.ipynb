{
 "cells": [
  {
   "cell_type": "markdown",
   "id": "5ffafb1a-d826-4ef7-8a77-a3c468152793",
   "metadata": {},
   "source": [
    "# 7. Ensemble Learning and Random Forests\n",
    "\n",
    "- A group of predictors is called an *ensemble*\n",
    "- Aggregating the predictions of an ensemble is called *ensemble learning*\n",
    "- An ensemble learning algorithm is called an *ensemble method*"
   ]
  },
  {
   "cell_type": "code",
   "execution_count": 1,
   "id": "5029dd66-6bc6-4656-8400-69867fcefd50",
   "metadata": {},
   "outputs": [],
   "source": [
    "import numpy as np\n",
    "import pandas as pd\n",
    "from matplotlib import pyplot as plt"
   ]
  },
  {
   "cell_type": "code",
   "execution_count": 2,
   "id": "bb6fde61-b2c7-4b46-8dd2-bb535d022c8d",
   "metadata": {},
   "outputs": [],
   "source": [
    "import time\n",
    "\n",
    "\n",
    "def computation_time(func):\n",
    "    def inner(*args, **kwargs):\n",
    "        start = time.perf_counter()\n",
    "        func(*args, **kwargs)\n",
    "        end = time.perf_counter()\n",
    "        print(\"Computation time: {:.1f} seconds\".format(end - start))\n",
    "\n",
    "    return inner"
   ]
  },
  {
   "cell_type": "markdown",
   "id": "600f6f28-2294-4a9c-b557-3ae9afd2fbc6",
   "metadata": {},
   "source": [
    "## Voting Classifiers\n",
    "\n",
    "- Given a ensemble of classifiers, a *hard voting* classifier predicts the class that has the most 'votes' among the individual classifiers\n",
    "- A *soft voting* classifier predicts the class which the highest class probability, averaged over the individual classifiers\n",
    "- Soft voting gives more weight to confident votes so is more accurate, but requires each individual classifier to estimate class probabilities\n",
    "- Even if the individual classifiers are *weak learners* (low accuracy), the ensemble can be a *strong learner* (high accuracy)\n",
    "- Voting classifiers work best if the individual classifiers are indepedent, making uncorrelated errors - this is not the case in practice because the are trained on the same data so are likely to make the same errors\n",
    "- To approximate independence it is best to use diverse classifiers trained using very different algorithms, so they make diverse errors"
   ]
  },
  {
   "cell_type": "code",
   "execution_count": 3,
   "id": "34f8dfc3-82ca-4ed2-94dd-d16ef39b30a3",
   "metadata": {},
   "outputs": [],
   "source": [
    "from sklearn.datasets import make_moons\n",
    "from sklearn.ensemble import RandomForestClassifier, VotingClassifier\n",
    "from sklearn.linear_model import LogisticRegression\n",
    "from sklearn.metrics import accuracy_score\n",
    "from sklearn.model_selection import StratifiedShuffleSplit\n",
    "from sklearn.svm import SVC\n",
    "\n",
    "# generate sample data - 2 interleaving half circles\n",
    "X, y = make_moons(n_samples=200, noise=0.3, random_state=42)\n",
    "\n",
    "# split into train and test sets, preserving prooprtion of each class\n",
    "split = StratifiedShuffleSplit(n_splits=1, test_size=0.2, random_state=42)\n",
    "\n",
    "for train_index, test_index in split.split(X, y):\n",
    "    X_train = X[train_index]\n",
    "    y_train = y[train_index]\n",
    "\n",
    "    X_test = X[test_index]\n",
    "    y_test = y[test_index]"
   ]
  },
  {
   "cell_type": "code",
   "execution_count": 4,
   "id": "87e9b8f0-2a1b-4c9a-a0a1-c0e0bcec4429",
   "metadata": {},
   "outputs": [
    {
     "data": {
      "image/png": "[encoded data removed]",
      "text/plain": [
       "<Figure size 1080x576 with 1 Axes>"
      ]
     },
     "metadata": {
      "needs_background": "light"
     },
     "output_type": "display_data"
    }
   ],
   "source": [
    "def plot_binary_data(X, y, ax=None):\n",
    "    if not ax:\n",
    "        fig, ax = plt.subplots(figsize=(15, 8))\n",
    "\n",
    "    ax.scatter(\n",
    "        X[:, 0][y == 1],\n",
    "        X[:, 1][y == 1],\n",
    "        marker=\"^\",\n",
    "        color=\"green\",\n",
    "    )\n",
    "    ax.scatter(\n",
    "        X[:, 0][y == 0],\n",
    "        X[:, 1][y == 0],\n",
    "        marker=\"s\",\n",
    "        color=\"purple\",\n",
    "    )\n",
    "\n",
    "\n",
    "fig, ax = plt.subplots(figsize=(15, 8))\n",
    "\n",
    "plot_binary_data(X_train, y_train, ax=ax)\n",
    "\n",
    "ax.set_xlabel(\"$x_0$\")\n",
    "ax.set_ylabel(\"$x_1$\")\n",
    "\n",
    "ax.set_title(\"Moons Data\");"
   ]
  },
  {
   "cell_type": "code",
   "execution_count": 5,
   "id": "772573f3-6a49-4447-9c78-39304d4aab4b",
   "metadata": {},
   "outputs": [],
   "source": [
    "svc_clf = SVC(probability=True, kernel=\"linear\", gamma=\"scale\", random_state=42)\n",
    "log_clf = LogisticRegression(solver=\"lbfgs\", random_state=42)\n",
    "for_clf = RandomForestClassifier(n_estimators=100, random_state=42)\n",
    "\n",
    "estimators = [(\"log\", log_clf), (\"svc\", svc_clf), (\"for\", for_clf)]\n",
    "\n",
    "hard_vote_clf = VotingClassifier(estimators=estimators, voting=\"hard\")\n",
    "soft_vote_clf = VotingClassifier(estimators=estimators, voting=\"hard\")\n",
    "\n",
    "hard_vote_clf.fit(X_train, y_train)\n",
    "soft_vote_clf.fit(X_train, y_train);"
   ]
  },
  {
   "cell_type": "code",
   "execution_count": 6,
   "id": "fbe056fe-274a-4ac4-ac51-b89f55033183",
   "metadata": {},
   "outputs": [
    {
     "name": "stdout",
     "output_type": "stream",
     "text": [
      "LogisticRegression :  0.875\n",
      "SVC :  0.875\n",
      "RandomForestClassifier :  0.85\n",
      "HardVoting:  0.9\n",
      "SoftVoting:  0.9\n"
     ]
    }
   ],
   "source": [
    "# VotingClassifier clones the estimators and stores them in estimators_\n",
    "for clf in hard_vote_clf.estimators_:\n",
    "    y_pred = clf.predict(X_test)\n",
    "    print(clf.__class__.__name__, \": \", accuracy_score(y_test, y_pred))\n",
    "\n",
    "y_pred = hard_vote_clf.predict(X_test)\n",
    "print(\"HardVoting: \", accuracy_score(y_test, y_pred))\n",
    "\n",
    "y_pred = soft_vote_clf.predict(X_test)\n",
    "print(\"SoftVoting: \", accuracy_score(y_test, y_pred))"
   ]
  },
  {
   "cell_type": "markdown",
   "id": "11ab7c16-2ff1-4f07-9f2f-305bbb2455a9",
   "metadata": {},
   "source": [
    "In this case hard and soft voting give the same result in this case, but you get the idea."
   ]
  },
  {
   "cell_type": "markdown",
   "id": "976aaf73-4813-4253-b1aa-b3f9d38d4a8b",
   "metadata": {},
   "source": [
    "## Bagging and Pasting\n",
    "\n",
    "- An alternative to using very different training algorithms is using the same algorithms and training on different random subsets of the training set\n",
    "- *Bagging* is where each random sample of the dataset is performed with replacement, so each training subset may contain duplicates (bagging is short for *bootstrap aggregating* - in stats sampling with replacement is called *bootstrapping*)\n",
    "- *Pasting* is where each random sample is performed without replacement\n",
    "- In both, each sample is taken from the full training set\n",
    "- The ensemble model typically makes predictions by either taking the most common class (classification) or taking the mean (regression)\n",
    "- Each individual tree has higher bias than if it were trained on the whole training set (because it 'thinks' all data will look like that subset), but aggregation reduces bias and variance\n",
    "- Generally the net result is that the ensemble model has similar bias but lower variance than a single predictor trained on the whole training set\n",
    "- Bagging and pasting scale very well because different predictors can be trained and predictions can be made in parallel; on different CPU cores or different servers"
   ]
  },
  {
   "cell_type": "markdown",
   "id": "9789a30c-732b-41d2-a769-1752bb6c9eac",
   "metadata": {},
   "source": [
    "**Bagging and Pasting in Scikit-Learn**\n",
    "- Bagging and pasting are done with `BaggingClassifier` and `BaggingRegressor`\n",
    "- `bootstrap = False` sets pasting instead of bagging\n",
    "- A bagged estimator will have similar bias to a single tree (estimators below have similar training accuracy), but less variance (decision boundaries are more regular)\n",
    "- Bagging generally has higher bias and lower variance compared with pasting: the model is more likely to learn from the same instances so is more likely to underfit, but the predictors are less correlated because there is more variety in the training sets\n",
    "- Overall bagging often results in better models"
   ]
  },
  {
   "cell_type": "code",
   "execution_count": 7,
   "id": "4906f2d4-ac0d-4f74-96cb-3239aa9731bf",
   "metadata": {},
   "outputs": [
    {
     "name": "stdout",
     "output_type": "stream",
     "text": [
      "Decision tree, training accuracy: 0.92\n",
      "With bagging, training accuracy: 0.93\n"
     ]
    }
   ],
   "source": [
    "from sklearn.ensemble import BaggingClassifier\n",
    "from sklearn.tree import DecisionTreeClassifier\n",
    "\n",
    "# generate sample data\n",
    "X, y = make_moons(n_samples=500, noise=0.3, random_state=42)\n",
    "\n",
    "# tree and random forest\n",
    "tree_clf = DecisionTreeClassifier(min_weight_fraction_leaf=0.05, random_state=42)\n",
    "bag_clf = BaggingClassifier(\n",
    "    DecisionTreeClassifier(min_weight_fraction_leaf=0.05),  # to reduce overfitting\n",
    "    n_estimators=500,  # number of predictors in the ensemble\n",
    "    max_samples=100,  # size of each sample\n",
    "    bootstrap=True,  # bagging, not pasting\n",
    "    n_jobs=-1,  # max num cores to use at once, -1 means all (8 for me)\n",
    "    random_state=42,\n",
    "    oob_score=True # see next section\n",
    ")\n",
    "\n",
    "tree_clf.fit(X, y)\n",
    "bag_clf.fit(X, y)\n",
    "\n",
    "y_pred = tree_clf.predict(X)\n",
    "acc = accuracy_score(y, y_pred)\n",
    "print(\"Decision tree, training accuracy: {:.2f}\".format(acc))\n",
    "\n",
    "y_pred = bag_clf.predict(X)\n",
    "acc = accuracy_score(y, y_pred)\n",
    "print(\"With bagging, training accuracy: {:.2f}\".format(acc))"
   ]
  },
  {
   "cell_type": "code",
   "execution_count": 8,
   "id": "1415e387-827d-4705-842e-c559ee9357de",
   "metadata": {},
   "outputs": [
    {
     "data": {
      "image/png": "[encoded data removed]",
      "text/plain": [
       "<Figure size 1440x576 with 2 Axes>"
      ]
     },
     "metadata": {
      "needs_background": "light"
     },
     "output_type": "display_data"
    }
   ],
   "source": [
    "def plot_class_predictions(clf, xlim, ylim, ax=None):\n",
    "    if not ax:\n",
    "        fig, ax = plt.subplots(figsize=(15, 8))\n",
    "        \n",
    "    # generate values along each axis\n",
    "    x0s = np.linspace(xlim[0], xlim[1], 500)\n",
    "    x1s = np.linspace(ylim[0], ylim[1], 500)\n",
    "\n",
    "    # all combinations of (x0, x1) for plot\n",
    "    x0, x1 = np.meshgrid(x0s, x1s)\n",
    "\n",
    "    X = np.c_[x0.ravel(), x1.ravel()]\n",
    "    y_pred = clf.predict(X).reshape(x0.shape)\n",
    "\n",
    "    ax.contourf(x0, x1, y_pred, cmap=plt.cm.brg, alpha=0.2)\n",
    "\n",
    "\n",
    "def plot_classifier(clf, xlim, ylim, ax=None, title=None):\n",
    "    if not ax:\n",
    "        fig, ax = plt.subplots(figsize=(15, 8))\n",
    "\n",
    "    plot_class_predictions(clf, xlim, ylim, ax=ax)\n",
    "    plot_binary_data(X, y, ax=ax)\n",
    "\n",
    "    ax.set_xlabel(\"$x_0$\")\n",
    "    ax.set_ylabel(\"$x_1$\")\n",
    "\n",
    "    ax.set_xlim(xlim)\n",
    "    ax.set_ylim(ylim)\n",
    "\n",
    "    ax.set_title(title)\n",
    "\n",
    "\n",
    "xlim = np.array([-2, 2.5])\n",
    "ylim = np.array([-1, 2])\n",
    "\n",
    "fig, axs = plt.subplots(1, 2, figsize=(20, 8))\n",
    "\n",
    "plot_classifier(tree_clf, xlim, ylim, ax=axs[0], title=\"Decision Tree\")\n",
    "plot_classifier(bag_clf, xlim, ylim, ax=axs[1], title=\"With Bagging\")"
   ]
  },
  {
   "cell_type": "markdown",
   "id": "616f07f1-b5d6-48e3-aa68-22e0f1b3be70",
   "metadata": {},
   "source": [
    "**Out-of-Bag Evalation:**\n",
    "- With bagging some instances may not be sampled at all: when taking a sample of size $m$, on average only 63% of training samples will be taken (for $m$ largek, see appendix)\n",
    "- The instances not samples are called *out-of-bag (oob)* instances\n",
    "- Each individual predictor can be evaluated on the oob instances since it never sees them during training\n",
    "- You can evaluate the ensemble by averaging the oob evaluations for each predictor\n",
    "    - *This means:* this means for each training instance, take the predictors for which the instance is oob, use these to generate an overall prediction, calculate the error over all these predictions\n",
    "    - *This doesn't mean:* calculate the error for each predictor on the oob instances, average these errors (this would be much lower)\n",
    "    - Oob error is generally pessimistic because each training instance is effectively evaluated on an ensemble with ~37% fewer constituent predictors - this should stabilise as the number of individual predictors increases\n",
    "    - For accuracy, the bootstrap training sample size should be similar to the original set (according to wiki)\n",
    "- Oob error is an estimate of generalisation error. It should converge to CV error (specifically leave-on-out CV error), but oob allows you to test the model as it's being trained\n",
    "    - Sci-kit Learn: \"OOB estimates are usually very pessimistic thus we recommend to use cross-validation instead and only use OOB if cross-validation is too time consuming\"\n",
    "- You can also get the overall decision function - averaging the decision functions for oob instances for each predictor\n",
    "- To get these you must set `oob_score = True` on the estimator"
   ]
  },
  {
   "cell_type": "code",
   "execution_count": 12,
   "id": "3def5287-7a34-487e-8619-41821f5a5ae0",
   "metadata": {},
   "outputs": [
    {
     "name": "stdout",
     "output_type": "stream",
     "text": [
      "Mean Out-of-Bag Accuracy: 0.908\n",
      "Mean Out-of-Bag Accuracy: 0.908\n",
      "Test Accuracy: 0.900\n"
     ]
    }
   ],
   "source": [
    "# oob score directly - sklearn uses accuracy as the oob metric\n",
    "oob_acc = bag_clf.oob_score_\n",
    "print(\"Mean Out-of-Bag Accuracy: {:.3f}\".format(oob_acc))\n",
    "\n",
    "# calculated from the decision function\n",
    "y_pred = np.argmax(bag_clf.oob_decision_function_, axis=1)\n",
    "print(\"Mean Out-of-Bag Accuracy: {:.3f}\".format(accuracy_score(y, y_pred)))\n",
    "\n",
    "# compare with generalisation error by generating another sample using same params\n",
    "X_test, y_test = make_moons(n_samples=100, noise=0.3, random_state=43)\n",
    "y_pred = bag_clf.predict(X_test)\n",
    "print(\"Test Accuracy: {:.3f}\".format(accuracy_score(y_test, y_pred)))"
   ]
  },
  {
   "cell_type": "markdown",
   "id": "70aeee7b-af06-4395-928f-d4b818780b9b",
   "metadata": {},
   "source": [
    "**Random Patches and Random Subspaces:**\n",
    "- `BaggingClassifier` also allows you to randomly sample features using `max_features` and `bootstrap_features`, so each predictor is trained on a random subset of input features\n",
    "- Sampling both training instances and features is called *random patches*\n",
    "- Sampling just features is called the *random subspaces* method\n",
    "- Sampling feautres results in more predictor diversity so increases bias but decreases variance\n",
    "- It is most useful when you have high-dimensional inputs such as images"
   ]
  },
  {
   "cell_type": "markdown",
   "id": "257e3207-8d37-4d44-8ab6-02189a490181",
   "metadata": {},
   "source": [
    "Q: How do you reduce overfitting for a random forest?"
   ]
  },
  {
   "cell_type": "markdown",
   "id": "0276cc79-81d5-4d92-9f8c-4dba2fb0f499",
   "metadata": {},
   "source": [
    "# Appendix"
   ]
  },
  {
   "cell_type": "markdown",
   "id": "132a0e57-f5ef-4064-a130-068a5bbf901f",
   "metadata": {},
   "source": [
    "## Out-of-Bag Evaluation\n",
    "\n",
    "We prove the claim that if a bagging classifier samples $m$ training instances with replacement then \"only about 63% of the training instances are sampled on average for each predictor\".\n",
    "\n",
    "Suppose we have a set $X$ of size $m$ and we sample it $n$ times with replacement. Let $D$ be the random variable that gives the number of distinct elements of $m$ that are sampled. We claim that\n",
    "\n",
    "\\begin{equation}\n",
    "    \\mathbb{E}(D_n) = \\frac{m^n-(m-1)^n}{m^{n-1}} = m \\left( 1 - \\left( 1 - \\frac{1}{m}\\right)^n\\right).\n",
    "\\end{equation}\n",
    "\n",
    "Note that if this is true then the result follows since the proportion of training instances sampled is $\\mathbb{E}(D_n) \\big/ m = 1 - \\left( 1 - \\frac{1}{m}\\right)^n$ which tends to $1-e^{-1}\\approx 0.63$ as $m\\to\\infty$ if $m=n$.\n",
    "\n",
    "To prove the claim we use (strong) induction on $n$. The claim is clearly true for $n=1$ so take $n>1$. The important observation is that to get $D_n=k$, you need to either have $D_{n-1}=k$ and then pick the next sample from one of those already sampled (probability $k/m$), or have $D_{n-1}=k-1$ and then pick the next sample from one of those not already sampled (probability $(m-k+1)/m$). From this we have\n",
    "\n",
    "\\begin{align}\n",
    "    \\mathbb{E}(D_n)\n",
    "        & = \\sum_{k=1}^n k P(D_n=k) \\\\\n",
    "        & = \\sum_{k=1}^n k\\left( \\frac{k}{m} P(D_{n-1}=k) + \\frac{m-k+1}{m} P(D_{n-1}=k-1)\\right) \\\\\n",
    "        & = \\frac{1}{m} \\left[ \\sum_{k=1}^{n-1} k^2 P(D_{n-1}=k) + \\sum_{j=1}^{k-1} (j+1)(m-j) P(D_{n-1}=j)\\right] \\\\\n",
    "        & = \\frac{1}{m} \\sum_{k=1}^{n-1} \\left[(m-1)k + m\\right] P(D_{n-1}=k)\\ \\\\\n",
    "        & = \\frac{1}{m}\\left[ (m-1)\\frac{m^{n-1} - (m-1)^{n-1}}{m^{n-1}} + m\\right] \\\\\n",
    "        & = \\frac{1}{m^n}\\left[ (m-1)\\left(m^{n-1} - (m-1)^{n-1}\\right) + m^{n-1}\\right] \\\\\n",
    "        & = \\frac{m^n - (m-1)^{n-1}}{m^n} \\\\\n",
    "\\end{align}\n",
    "\n",
    "as required."
   ]
  },
  {
   "cell_type": "code",
   "execution_count": null,
   "id": "410f0b5c-3347-42f3-82f6-85a60257e768",
   "metadata": {},
   "outputs": [],
   "source": []
  }
 ],
 "metadata": {
  "kernelspec": {
   "display_name": "Python 3",
   "language": "python",
   "name": "python3"
  },
  "language_info": {
   "codemirror_mode": {
    "name": "ipython",
    "version": 3
   },
   "file_extension": ".py",
   "mimetype": "text/x-python",
   "name": "python",
   "nbconvert_exporter": "python",
   "pygments_lexer": "ipython3",
   "version": "3.7.7"
  }
 },
 "nbformat": 4,
 "nbformat_minor": 5
}
