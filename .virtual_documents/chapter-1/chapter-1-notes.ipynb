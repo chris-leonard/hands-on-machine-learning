# Import packages
import numpy as np


# Create 1D array with range specified by slice
np.r_[0:5:1]


a = np.array([[1, 2, 3], [4, 5, 6]])
b = np.array([[7, 8, 9], [10, 11, 12]])

# Concatenate a and b along 0th axis
np.r_[a, b]


# Concatenate along 1st axis
np.r_['1', a, b]


# 2nd integer forces arrays to be 2-dimensional, then concatenate along 0th axis
np.r_['0,2', [1,2,3], [4,5,6]]


# 3rd integer specifies how to upgrade to upgrade to 2d
# It gives the axis which will contain the start of the existing arrays
# Default is -1
print(np.r_['0,2,0', [1,2,3]].shape)
print(np.r_['0,2,1', [1,2,3]].shape)


np.r_['0,2,0', [1,2,3], [4,5,6]]


# c_[inputs] is short-hand for r_['1,2,0', inputs]
# Useful for upgrading 1d to 2d as column vectors and concatenating horizontally
np.c_[[1, 2, 3], [4, 5, 6]]



