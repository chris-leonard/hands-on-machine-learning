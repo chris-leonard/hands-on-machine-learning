import numpy as np
import pandas as pd


from sklearn.model_selection import train_test_split

# Uniformly sampled data from 0 to 100
data = pd.DataFrame(100 * np.random.random(50), columns=['cont'])

# Split into 80/20 proportions
train, test = train_test_split(data, test_size=0.2)


# Uniformly sampled data from 0 to 100
data = pd.DataFrame(100 * np.random.random(1000), columns=['cont'])

# pd.cut to bin data - useful for turning continuous data into categorical (e.g. strata)
# (Scikit-Learn also has Discretization functionality)
data['cat'] = pd.cut(
    data['cont'], 
    bins=[0, 33, 66, 100], 
    labels=['low', 'medium', 'high'], 
    include_lowest=True
)

data.head(10)


from sklearn.model_selection import StratifiedShuffleSplit

# Initialise split object
split = StratifiedShuffleSplit(n_splits=1, test_size=0.2, random_state=42)

# This loop has only one iteration but syntax is necessary because of split class
# 2nd arg indicates what to control for, 1st arg just gives n_samples so could just use np.zeros(n_samples)
for train_index, test_index in split.split(data, data['cat']):
    train = data.loc[train_index]
    test = data.loc[test_index]

# Function to compare proportions in the different sets
def cat_proportions(df):
    return df['cat'].value_counts() / len(df)

# DataFrame to store results
compare_props = pd.DataFrame({
    'Overall': cat_proportions(data),
    'Train' : cat_proportions(train),
    'Test': cat_proportions(test),
}).sort_index()

compare_props


import os # Operation system dependent functionality


PATH = '/Users/christopherleonard'

# To combine path names into one complete path
# Note that it adds the necessary slash
ML_PATH = os.path.join(PATH, 'P/hands-on-machine-learning')
print(ML_PATH)


# Check if specified path is an existing directory
os.path.isdir(ML_PATH)


# Create specified directory
# Will return error if already exists
TEST_PATH = os.path.join(ML_PATH, 'chapter-2/test')
os.mkdir(TEST_PATH)

# Also works with relative directory
os.mkdir('test')
