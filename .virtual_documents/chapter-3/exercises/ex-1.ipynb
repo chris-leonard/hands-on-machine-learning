# Pydata stack
import numpy as np
import pandas as pd
from matplotlib import pyplot as plt

plt.rcParams["figure.figsize"] = (20, 10)

import time

from sklearn import set_config  # Displays HTML representation of composite estimators
from sklearn.datasets import fetch_openml  # For open source ML sets
from sklearn.metrics import accuracy_score
from sklearn.model_selection import GridSearchCV
from sklearn.neighbors import KNeighborsClassifier

set_config(display="diagram")


# useful decorator
def computation_time(func):
    def inner(*args, **kwargs):
        start = time.perf_counter()
        func(*args, **kwargs)
        end = time.perf_counter()
        print("Computation time: {:.1f} seconds".format(end - start))

    return inner


mnist = fetch_openml("mnist_784", version=1)

# load data into dataframes
X, y = mnist["data"], mnist["target"]

# use predefined train/test split
X_train, X_test, y_train, y_test = (
    X.iloc[:60000],
    X.iloc[60000:],
    y.iloc[:60000],
    y.iloc[60000:],
)


class_counts = y_train.value_counts().sort_index()
class_pcts = 100 * class_counts / num_samples
class_pcts.round(1)


# initialise
knc_clf = KNeighborsClassifier()

# hyperparams to try
param_grid = [{"n_neighbors": [3, 4, 5], "weights": ["uniform", "distance"]}]

grid_search = GridSearchCV(
    knc_clf,
    param_grid,
    scoring="accuracy",
    cv=5,
    return_train_score=True,
    refit=True,
)


@computation_time
def knc_grid_search(X, y):
    grid_search.fit(X, y)

    cv_results = grid_search.cv_results_

    cv_summary = pd.DataFrame(cv_results["params"])
    cv_summary["mean_train_score"] = cv_results["mean_train_score"].round(3)
    cv_summary["mean_test_score"] = cv_results["mean_test_score"].round(3)
    cv_summary = cv_summary.sort_values(by="mean_test_score", ascending=False)

    return cv_results, cv_summary


knc_grid_search(X_train, y_train)


knc_clf = grid_search.best_estimator_
knc_clf


y_test_pred = knc_clf.predict(X_test)
acc = accuracy_score(y_test, y_test_pred)

print("Test Accuracy: {:.1f}%".format(100 * acc))
