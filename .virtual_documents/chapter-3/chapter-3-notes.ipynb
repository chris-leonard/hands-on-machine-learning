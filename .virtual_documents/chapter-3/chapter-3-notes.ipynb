# Pydata stack
import numpy as np
import pandas as pd


from sklearn.base import clone
from sklearn.linear_model import LogisticRegression
from sklearn.model_selection import StratifiedKFold

# Sample data
X = np.array([[1, 2], [3, 4], [1, 2], [3, 4], [1, 2], [3, 4]])
y = np.array([0, 0, 0, 1, 1, 1])

# Initialise classifier
clf = LogisticRegression()

# Each split gives train and test indices for that fold that preserve the number of 0s and 1s in y
skfolds = StratifiedKFold(n_splits=3)  # n_splits is n_folds for cross-validation

for train_ix, test_ix in skfolds.split(X, y):  # Cycles through folds
    clone_clf = clone(clf)  # clone to avoiding change actual classifier

    print("Training indices: ", train_ix, "Test indices: ", test_ix)
    X_train_fold, y_train_fold = X[train_ix], y[train_ix]
    X_test_fold, y_test_fold = X[test_ix], y[test_ix]

    # Fit and print proportion correct
    clf.fit(X_train_fold, y_train_fold)
    y_pred = clf.predict(X_test_fold)
    n_correct = sum(y_pred == y_test_fold)
    print("Proportion correct: {:.1f}".format(n_correct / len(y_test_fold)))


from sklearn.linear_model import LogisticRegression
from sklearn.model_selection import cross_val_predict

# Sample data
X = np.array([[1, 2], [3, 4], [1, 2], [3, 4], [1, 2], [3, 4]])
y = np.array([0, 0, 0, 1, 1, 1])

# Initialise classifier
clf = LogisticRegression()

y_train_pred = cross_val_predict(clf, X, y, cv=3)
y_train_pred


import time

start_time = time.perf_counter()
time.sleep(1)
end_time = perf_counter()
print("Run time: {:0.1f} seconds".format(end_time - start_time))


def execution_time(func):
    
    def inner(*args, **kwargs):
        start = time.perf_counter()
        func(*args, **kwargs)
        end = time.perf_counter()
        
        print("Run time: {:0.1f} seconds".format(end - start))
    
    
    return inner


def sleep_copy(seconds):
    return sleep(seconds)


sleep_decorated = run_time(sleep_copy)
sleep_decorated(1)


@execution_time
def sleep_decorated(seconds):
    return sleep(seconds)


sleep_decorated(1)
