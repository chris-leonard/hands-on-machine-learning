{
 "cells": [
  {
   "cell_type": "markdown",
   "id": "ea0f7246",
   "metadata": {},
   "source": [
    "# Chapter 1 Exercises"
   ]
  },
  {
   "cell_type": "markdown",
   "id": "671984d8",
   "metadata": {},
   "source": []
  },
  {
   "cell_type": "markdown",
   "id": "61ed1925",
   "metadata": {},
   "source": [
    "## Exercise 1  <a name=\"ex1\"></a>\n",
    "\n",
    "How would you define Machine Learning?"
   ]
  },
  {
   "cell_type": "markdown",
   "id": "faf09ff5",
   "metadata": {},
   "source": [
    "### Solution\n",
    "\n",
    "Machine Learning is the study of programs that improve at a specified task, with the addition of relevant data, by some specified performance measure."
   ]
  },
  {
   "cell_type": "markdown",
   "id": "5b682e7a",
   "metadata": {},
   "source": [
    "## Exercise 2  <a name=\"ex2\"></a>\n",
    "\n",
    "Can you name four types of problems where it shines?"
   ]
  },
  {
   "cell_type": "markdown",
   "id": "3ad9aae7",
   "metadata": {},
   "source": [
    "### Solution\n",
    "\n",
    "1. Image classificaion\n",
    "2. Regression\n",
    "3. Recommender systems\n",
    "4. Natural language processing (e.g. translation)"
   ]
  },
  {
   "cell_type": "markdown",
   "id": "bef18980",
   "metadata": {},
   "source": [
    "## Exercise 3  <a name=\"ex3\"></a>\n",
    "\n",
    "What is a labelled training set?"
   ]
  },
  {
   "cell_type": "markdown",
   "id": "38a521ec",
   "metadata": {},
   "source": [
    "### Solution\n",
    "\n",
    "If data is labelled, then we have information that allows us to evaluate the performance of an algorithm on each data point. Such a data set can then be used for training, for example by minimising a cost function or maximising a utility function."
   ]
  },
  {
   "cell_type": "markdown",
   "id": "07ce6cd9",
   "metadata": {},
   "source": [
    "## Exercise 4 <a name=\"ex4\"></a>\n",
    "\n",
    "What are the two most common supervised tasks?"
   ]
  },
  {
   "cell_type": "markdown",
   "id": "577f21fa",
   "metadata": {},
   "source": [
    "### Solution\n",
    "\n",
    "Classification and regession."
   ]
  },
  {
   "cell_type": "markdown",
   "id": "46943344",
   "metadata": {},
   "source": [
    "## Exercise 5 <a name=\"ex5\"></a>\n",
    "\n",
    "Can you name four common unsupervised tasks?"
   ]
  },
  {
   "cell_type": "markdown",
   "id": "a48dc73b",
   "metadata": {},
   "source": [
    "### Solution\n",
    "\n",
    "1. Clustering\n",
    "2. Visualisation\n",
    "3. Feature extraction\n",
    "4. Anomaly detection"
   ]
  },
  {
   "cell_type": "code",
   "execution_count": null,
   "id": "85500c9c",
   "metadata": {},
   "outputs": [],
   "source": []
  }
 ],
 "metadata": {
  "kernelspec": {
   "display_name": "Python 3",
   "language": "python",
   "name": "python3"
  },
  "language_info": {
   "codemirror_mode": {
    "name": "ipython",
    "version": 3
   },
   "file_extension": ".py",
   "mimetype": "text/x-python",
   "name": "python",
   "nbconvert_exporter": "python",
   "pygments_lexer": "ipython3",
   "version": "3.7.7"
  }
 },
 "nbformat": 4,
 "nbformat_minor": 5
}
