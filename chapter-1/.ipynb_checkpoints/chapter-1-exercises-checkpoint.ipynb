{
 "cells": [
  {
   "cell_type": "markdown",
   "id": "ea0f7246",
   "metadata": {},
   "source": [
    "# Chapter 1 Exercises"
   ]
  },
  {
   "cell_type": "markdown",
   "id": "61ed1925",
   "metadata": {},
   "source": [
    "## Exercise 1  <a name=\"ex1\"></a>\n",
    "\n",
    "How would you define Machine Learning?"
   ]
  },
  {
   "cell_type": "markdown",
   "id": "faf09ff5",
   "metadata": {},
   "source": [
    "### Solution\n",
    "\n",
    "Machine Learning is the study of programs that improve at a specified task, with the addition of relevant data, by some specified performance measure."
   ]
  },
  {
   "cell_type": "markdown",
   "id": "5b682e7a",
   "metadata": {},
   "source": [
    "## Exercise 2  <a name=\"ex2\"></a>\n",
    "\n",
    "Can you name four types of problems where it shines?"
   ]
  },
  {
   "cell_type": "markdown",
   "id": "3ad9aae7",
   "metadata": {},
   "source": [
    "### Solution\n",
    "\n",
    "1. Image classificaion\n",
    "2. Regression\n",
    "3. Recommender systems\n",
    "4. Natural language processing (e.g. translation)"
   ]
  },
  {
   "cell_type": "markdown",
   "id": "bef18980",
   "metadata": {},
   "source": [
    "## Exercise 3  <a name=\"ex3\"></a>\n",
    "\n",
    "What is a labelled training set?"
   ]
  },
  {
   "cell_type": "markdown",
   "id": "38a521ec",
   "metadata": {},
   "source": [
    "### Solution\n",
    "\n",
    "If data is labelled, then we have information that allows us to evaluate the performance of an algorithm on each data point. Such a data set can then be used for training, for example by minimising a cost function or maximising a utility function."
   ]
  },
  {
   "cell_type": "markdown",
   "id": "07ce6cd9",
   "metadata": {},
   "source": [
    "## Exercise 4 <a name=\"ex4\"></a>\n",
    "\n",
    "What are the two most common supervised tasks?"
   ]
  },
  {
   "cell_type": "markdown",
   "id": "577f21fa",
   "metadata": {},
   "source": [
    "### Solution\n",
    "\n",
    "Classification and regession."
   ]
  },
  {
   "cell_type": "markdown",
   "id": "46943344",
   "metadata": {},
   "source": [
    "## Exercise 5 <a name=\"ex5\"></a>\n",
    "\n",
    "Can you name four common unsupervised tasks?"
   ]
  },
  {
   "cell_type": "markdown",
   "id": "a48dc73b",
   "metadata": {},
   "source": [
    "### Solution\n",
    "\n",
    "1. Clustering\n",
    "2. Visualisation\n",
    "3. Feature extraction\n",
    "4. Anomaly detection"
   ]
  },
  {
   "cell_type": "markdown",
   "id": "f92cfecb",
   "metadata": {},
   "source": [
    "## Exercise 6 <a name=\"ex6\"></a>\n",
    "\n",
    "What type of Machine Learning algorithm would you use to allow a robot to walk in various unknown terrains?"
   ]
  },
  {
   "cell_type": "markdown",
   "id": "de6106d0",
   "metadata": {},
   "source": [
    "### Solution\n",
    "\n",
    "Reinforcement learning"
   ]
  },
  {
   "cell_type": "markdown",
   "id": "216bcd2a",
   "metadata": {},
   "source": [
    "## Exercise 7 <a name=\"ex7\"></a>\n",
    "\n",
    "What type of algorithm would you use to segment your customers into multiple groups?"
   ]
  },
  {
   "cell_type": "markdown",
   "id": "458cd02f",
   "metadata": {},
   "source": [
    "### Solution\n",
    "\n",
    "A clustering algorithm."
   ]
  },
  {
   "cell_type": "markdown",
   "id": "51019e28",
   "metadata": {},
   "source": [
    "## Exercise 8 <a name=\"ex8\"></a>\n",
    "\n",
    "Would you frame the problem of spam detection as a supervised learning problem or an unsupervised learning problem?"
   ]
  },
  {
   "cell_type": "markdown",
   "id": "341c7850",
   "metadata": {},
   "source": [
    "### Solution\n",
    "\n",
    "A supervised learning problem."
   ]
  },
  {
   "cell_type": "markdown",
   "id": "5595a4fb",
   "metadata": {},
   "source": [
    "## Exercise 9 <a name=\"ex9\"></a>\n",
    "\n",
    "What is an online learning system?"
   ]
  },
  {
   "cell_type": "markdown",
   "id": "22ad2a13",
   "metadata": {},
   "source": [
    "### Solution\n",
    "\n",
    "An online learning system learns 'on the fly'. That is, it can learn from new data as it comes in. By contrast, offline learning systems need to be trained on all data at once."
   ]
  },
  {
   "cell_type": "markdown",
   "id": "bed98758",
   "metadata": {},
   "source": [
    "## Exercise 10 <a name=\"ex10\"></a>\n",
    "\n",
    "What is out-of-core learning?"
   ]
  },
  {
   "cell_type": "markdown",
   "id": "7b192058",
   "metadata": {},
   "source": [
    "### Solution\n",
    "\n",
    "Out-of-core learning is where training is done on the cloud with data passed through in batches. This is generally used when the volume of data is too great to be processed all at once.\n",
    "\n",
    "*Out-of-core learning is the use of online learning to train systems on huge datasets*"
   ]
  },
  {
   "cell_type": "markdown",
   "id": "54992a14",
   "metadata": {},
   "source": [
    "## Exercise 11 <a name=\"ex11\"></a>\n",
    "\n",
    "What type of learning algorithm relies on a similarity measure to make predictions."
   ]
  },
  {
   "cell_type": "markdown",
   "id": "e37c1c38",
   "metadata": {},
   "source": [
    "### Solution\n",
    "\n",
    "An instance-based algorithm."
   ]
  },
  {
   "cell_type": "markdown",
   "id": "0243621a",
   "metadata": {},
   "source": [
    "## Exercise 12 <a name=\"ex12\"></a>\n",
    "\n",
    "What is the difference betweeen a model parameter and a learning algorithm's hyperparameter?"
   ]
  },
  {
   "cell_type": "markdown",
   "id": "a53b147e",
   "metadata": {},
   "source": [
    "### Solution\n",
    "\n",
    "A hyperparameter is a parameter of the learning algorithm, not the actual model. It is used to determine the model parameters but after this has no effect."
   ]
  },
  {
   "cell_type": "markdown",
   "id": "a1ebc84a",
   "metadata": {},
   "source": [
    "## Exercise 13 <a name=\"ex13\"></a>\n",
    "\n",
    "What do model-based learning algorithms search for? What is the most common strategy they use to succeed? How do they make predictions?"
   ]
  },
  {
   "cell_type": "markdown",
   "id": "42ddf844",
   "metadata": {},
   "source": [
    "### Solution\n",
    "\n",
    "Model-based learning algorithms search for optimal parameters. They generally do this by either minimising a cost function or maximising a utility function. The resulting model is then just a function that takes in data points and outputs predictions."
   ]
  },
  {
   "cell_type": "markdown",
   "id": "619f28a9",
   "metadata": {},
   "source": [
    "## Exercise 14 <a name=\"ex14\"></a>\n",
    "\n",
    "Can you name four of the main challenges in Machine Learning?"
   ]
  },
  {
   "cell_type": "markdown",
   "id": "ad446678",
   "metadata": {},
   "source": [
    "### Solution\n",
    "\n",
    "1. Poor quality data (too noisy or unclean)\n",
    "2. Insufficient training data\n",
    "4. Unrepresentative training data\n",
    "5. Overfitting training data"
   ]
  },
  {
   "cell_type": "markdown",
   "id": "ddd45fd8",
   "metadata": {},
   "source": [
    "## Exercise 15 <a name=\"ex15\"></a>\n",
    "\n",
    "If your model performs great on the training data but generalised poorly to new instances, what is happening? Can you name three possible solutions?"
   ]
  },
  {
   "cell_type": "markdown",
   "id": "1dbb8c63",
   "metadata": {},
   "source": [
    "### Solution\n",
    "\n",
    "The model is overfitting the training data.\n",
    "\n",
    "Possible solutions:\n",
    "1. Use a simpler model\n",
    "2. Constrain the model (for example through regularisation)\n",
    "3. Get more training data "
   ]
  },
  {
   "cell_type": "code",
   "execution_count": null,
   "id": "ec1ff13b",
   "metadata": {},
   "outputs": [],
   "source": []
  }
 ],
 "metadata": {
  "kernelspec": {
   "display_name": "Python 3",
   "language": "python",
   "name": "python3"
  },
  "language_info": {
   "codemirror_mode": {
    "name": "ipython",
    "version": 3
   },
   "file_extension": ".py",
   "mimetype": "text/x-python",
   "name": "python",
   "nbconvert_exporter": "python",
   "pygments_lexer": "ipython3",
   "version": "3.7.7"
  }
 },
 "nbformat": 4,
 "nbformat_minor": 5
}
