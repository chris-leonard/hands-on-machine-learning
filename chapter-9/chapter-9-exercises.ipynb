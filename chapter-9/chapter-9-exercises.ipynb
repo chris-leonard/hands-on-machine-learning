{
 "cells": [
  {
   "cell_type": "markdown",
   "id": "72926b3f-281e-4bf6-b906-1b8a01e12f99",
   "metadata": {},
   "source": [
    "# Exercises"
   ]
  },
  {
   "cell_type": "code",
   "execution_count": 1,
   "id": "2e44f81c-ef6b-469a-b9b5-fcb792059dd2",
   "metadata": {},
   "outputs": [],
   "source": [
    "import numpy as np\n",
    "import pandas as pd\n",
    "from matplotlib import pyplot as plt\n",
    "\n",
    "plt.rcParams.update({\"figure.figsize\": (10, 8), \"font.size\": 18})"
   ]
  },
  {
   "cell_type": "markdown",
   "id": "5827a6b1-e4be-4061-b341-34bd8513dcbc",
   "metadata": {},
   "source": [
    "## Exercise 1\n",
    "\n",
    "How would you define clustering? Can you name a few clustering algorithms?\n",
    "\n",
    "---"
   ]
  },
  {
   "cell_type": "markdown",
   "id": "f02f7857-040b-443b-bd5b-5c3b438443ef",
   "metadata": {},
   "source": [
    "Clustering is an unsupervised learning task that involves grouping 'similar' instances together in clusters.\n",
    "\n",
    "Some clustering algorithms are:\n",
    "- K-means\n",
    "- DBSCAN\n",
    "- Gaussian mixtures"
   ]
  },
  {
   "cell_type": "markdown",
   "id": "bd75290a-37a8-4e74-ad97-20fe6fb6e8ee",
   "metadata": {},
   "source": [
    "## Exercise 2\n",
    "\n",
    "What are some of the main applications of clustering algorithms?\n",
    "\n",
    "---"
   ]
  },
  {
   "cell_type": "markdown",
   "id": "7f3bd2f4-bb2c-4270-a394-be424a5f75c2",
   "metadata": {},
   "source": [
    "Some applications of clustering are:\n",
    "- Segmentation - e.g. grouping together similar customers or image segmentation\n",
    "- Anomaly/novelty detection - e.g. identifying spam emails or faulty products\n",
    "- Dimensionality reduction - mapping each instance to its vector of distances to the cluster centres can reduce dimensions\n",
    "- Semi-supervised learning - propagating labels to instances in the same cluster"
   ]
  },
  {
   "cell_type": "markdown",
   "id": "9a497f32-af33-4b31-9850-b158c7ea9c84",
   "metadata": {},
   "source": [
    "## Exercise 3\n",
    "\n",
    "Describe two techniques to select the right number of clusters when using K-means.\n",
    "\n",
    "---"
   ]
  },
  {
   "cell_type": "markdown",
   "id": "bd4503c8-194c-473e-b49e-1b9698a0fc26",
   "metadata": {},
   "source": [
    "1. Maximise silhouette score\n",
    "2. Implement K-means as the first step in a pipeline and treat the number of clusters as a hyperparameter to be optimised (e.g. through cross validation)\n",
    "3. Plot inertia against the number of clusters and look for the 'elbow'"
   ]
  },
  {
   "cell_type": "markdown",
   "id": "d05c6be0-50f8-46d6-bb4a-c7a6e140e573",
   "metadata": {},
   "source": [
    "## Exercise 4\n",
    "\n",
    "What is label propagation? Why would you implement it, and how?\n",
    "\n",
    "----"
   ]
  },
  {
   "cell_type": "markdown",
   "id": "8f985d2b-b83b-4eef-8a57-74b3d958aea7",
   "metadata": {},
   "source": [
    "Label propagation is the practice of copying labels from labelled instances to unlabelled instances. You might implement it because labelling instances 'properly' is costly or time-consuming and propagating labels increases model performance.\n",
    "\n",
    "To implement label propagation for K-means you might first cluster the data, then select a representative for each cluster (the instances closest to the centroids are a good choice), then assign the representative instances' labels to other instances in their cluster."
   ]
  },
  {
   "cell_type": "markdown",
   "id": "1061e46f-c948-408c-9596-e5e041bd53e5",
   "metadata": {},
   "source": [
    "## Exercise 5\n",
    "\n",
    "Can you name two clustering algorithms that can scale to large datasets? And two that look for regions of high density?\n",
    "\n",
    "---"
   ]
  },
  {
   "cell_type": "markdown",
   "id": "234cd45c-c1cb-4da2-b08a-73d969db2fd7",
   "metadata": {},
   "source": [
    "K-means and BIRCH both scale well to large datasets.\n",
    "\n",
    "DBSCAN and mean shift both look for regions of high density."
   ]
  },
  {
   "cell_type": "markdown",
   "id": "00211b80-3a54-440b-bf16-23095e0bc1df",
   "metadata": {},
   "source": [
    "## Exercise 6\n",
    "\n",
    "Can you think of a use case where active learning would be useful? How would you implement it?\n",
    "\n",
    "---"
   ]
  },
  {
   "cell_type": "markdown",
   "id": "893991e3-bb6a-49f4-adfe-e9894e5256a3",
   "metadata": {},
   "source": [
    "In image recognition - have humans manually select images that contain a particular object (i.e. image identification CAPTCHA).\n",
    "\n",
    "To implement it you might:\n",
    "- Train a binary classifier for recognising an object, e.g. cars, in on a labelled training set of photos \n",
    "- Have the classifier predict probabilities for containing a car on an unlabelled set\n",
    "- Select images where the probabilities are close to 50% and have humans label them\n",
    "- Retrain the algorithm (or train on-the-fly if possible) with the expanded training set\n",
    "\n",
    "This is uncertainty sampling."
   ]
  },
  {
   "cell_type": "markdown",
   "id": "6f050747-ab36-4c40-9f60-b5a887bfd700",
   "metadata": {},
   "source": [
    "## Exercise 7\n",
    "\n",
    "What is the difference between anomaly detection and novelty detection?\n",
    "\n",
    "---"
   ]
  },
  {
   "cell_type": "markdown",
   "id": "b3c7d004-8df6-45b2-8915-c1352c2a8a12",
   "metadata": {},
   "source": [
    "Novelty detection assumes that there are no outliers in your training set; anomaly detection assumes the training set is mixed."
   ]
  },
  {
   "cell_type": "markdown",
   "id": "15a888d2-0e2b-44f4-adb9-05d51dd5bceb",
   "metadata": {},
   "source": [
    "## Exercise 8\n",
    "\n",
    "What is a Gaussian mixture? What tasks can you use it for?\n",
    "\n",
    "---"
   ]
  },
  {
   "cell_type": "markdown",
   "id": "a6d42fee-5cfd-4a45-8b4f-291839860613",
   "metadata": {},
   "source": [
    "A Gaussian mixture is a model where new instances are sampled from a random one of $k$ fixed Gaussian distributions (the different distributions are not necessarily equally likely to be selected - the probabilities are determined by weights).\n",
    "\n",
    "You can use Gaussian mixtures for:\n",
    "- Clustering\n",
    "- Anomaly/novelty detection\n",
    "- Data augmentation (since the model is generative)\n",
    "- Density estimation"
   ]
  },
  {
   "cell_type": "markdown",
   "id": "4ca68a2b-80a2-4c1c-8bc0-6f6b537101db",
   "metadata": {},
   "source": [
    "## Exercise 9\n",
    "\n",
    "Can you name two techniques to find the right number of clusters when using a Gaussian mixture model?\n",
    "\n",
    "---"
   ]
  },
  {
   "cell_type": "markdown",
   "id": "d683485d-16c5-474c-9b09-5cf039cda91b",
   "metadata": {},
   "source": [
    "1. You could minimise an theoretical information criterion such as AIC or BIC\n",
    "2. You could apply a Bayesian Gaussian mixture model with a large number of clusters - these tend to set weights for unnecessary clusters equal to, or close to, zero (you may want to use this as a guide to the optimal number of clusters and retrain a standarad Gaussian mixture model)."
   ]
  },
  {
   "cell_type": "code",
   "execution_count": null,
   "id": "08d5ffa8-0e37-4e25-88ca-521872859f62",
   "metadata": {},
   "outputs": [],
   "source": []
  }
 ],
 "metadata": {
  "kernelspec": {
   "display_name": "Python 3",
   "language": "python",
   "name": "python3"
  },
  "language_info": {
   "codemirror_mode": {
    "name": "ipython",
    "version": 3
   },
   "file_extension": ".py",
   "mimetype": "text/x-python",
   "name": "python",
   "nbconvert_exporter": "python",
   "pygments_lexer": "ipython3",
   "version": "3.7.7"
  }
 },
 "nbformat": 4,
 "nbformat_minor": 5
}
