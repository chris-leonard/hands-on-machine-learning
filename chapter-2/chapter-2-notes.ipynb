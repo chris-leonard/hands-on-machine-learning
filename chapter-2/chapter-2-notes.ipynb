{
 "cells": [
  {
   "cell_type": "markdown",
   "id": "d374a242",
   "metadata": {},
   "source": [
    "# Chapter 2: End-to-End Machine Learning Project"
   ]
  },
  {
   "cell_type": "code",
   "execution_count": 21,
   "id": "305504c3",
   "metadata": {},
   "outputs": [],
   "source": [
    "import numpy as np\n",
    "import pandas as pd"
   ]
  },
  {
   "cell_type": "markdown",
   "id": "47b5a101",
   "metadata": {},
   "source": [
    "**Main Steps:**\n",
    "1. Big picture\n",
    "2. Get the data\n",
    "3. Discover and visualise\n",
    "4. Prepare data\n",
    "5. Select and train model\n",
    "6. Fine-tune model\n",
    "7. Present solution\n",
    "8. Launch, monitor, and maintain"
   ]
  },
  {
   "cell_type": "markdown",
   "id": "a373005f",
   "metadata": {},
   "source": [
    "## Look at the Big Picture\n",
    "\n",
    "**Goal:** use census data to predicct median housing price per district.\n",
    "\n",
    "### Frame the Problem\n",
    "\n",
    "**Questions:**\n",
    "1. What is the end business objective?\n",
    "2. What is the current solution?\n",
    "    - Gives a reference for performance and insights on possible solutions\n",
    "3. Frame the problem\n",
    "    - Supervised, unsupervised, reinforcement etc.\n",
    "    - Problem type (regression, classification etc.)\n",
    "    - Batch learning or online learning?\n",
    "    \n",
    "### Select a Performance Measure\n",
    "\n",
    "Common performance measures for regession problems are:\n",
    "- *Root Mean Square Error (RMSE):*\n",
    "\\begin{equation}\n",
    "    \\text{RMSE}(\\mathbf{X}, h) = \\sqrt{ \\frac{1}{m} \\sum_{i=1}^m \\left( h(\\mathbf{x}^{(i)}) - y^{(i)}\\right)^2 }\n",
    "\\end{equation}\n",
    "\n",
    "- *Mean Absolute Error (MAE):*\n",
    "\\begin{equation}\n",
    "    \\text{MAE}(\\mathbf{X}, h) = \\frac{1}{m} \\sum_{i=1}^m \\Big\\lvert h(\\mathbf{x}^{(i)}) - y^{(i)}\\Big\\rvert\n",
    "\\end{equation}\n",
    "\n",
    "- Other $l_k$ norms\n",
    "\n",
    "The higher $k$ the greater the impact of large values, so RMSE is more sensitive to outliers than MAE. RMSE is better if outliers are exponentially rare (like a bell curve), otherwise MAE may be better.\n",
    "\n",
    "### Check the Assumptions\n",
    "\n",
    "Assumptions in the problem - e.g. are exact values necessary in a regression problem, or just categories?"
   ]
  },
  {
   "cell_type": "markdown",
   "id": "c9ab93d4",
   "metadata": {},
   "source": [
    "## Get the Data\n",
    "\n",
    "### Create the Workspace\n",
    "\n",
    "Blah Blah\n",
    "\n",
    "### Download the Data\n",
    "\n",
    "- Good to have a function that downloads the data\n",
    "- Write a script that uses the function to fetch latest data\n",
    "- *Optional:* schedule a job to fetch latest data automatically at regular intervals\n",
    "- Also should write function to load data\n",
    "\n",
    "### Take a Quick Look at the Data Structure\n",
    "\n",
    "- `df.head()`\n",
    "- `df.info()`\n",
    "    - Note missing values\n",
    "    - List data types: categorical (ordinal/numerical) or numerical (discrete/continuous/interval)\n",
    "- `df.describe()`\n",
    "- List different values for discrete data using `df.value_counts()`\n",
    "- Histograms of numerical data using `df.hist(bins=50, figsize=(20, 15))`\n",
    "\n",
    "### Create a Test Set\n",
    "\n",
    "- **Data snooping bias:** Overfitting to the *test* set by looking at test set (even briefly)\n",
    "- `train_test_split` from Scikit-Learn splits data into training and test set"
   ]
  },
  {
   "cell_type": "code",
   "execution_count": 47,
   "id": "716f0eeb",
   "metadata": {},
   "outputs": [],
   "source": [
    "from sklearn.model_selection import train_test_split\n",
    "\n",
    "# Uniformly sampled data from 0 to 100\n",
    "data = pd.DataFrame(100 * np.random.random(50), columns=['cont'])\n",
    "\n",
    "# Split into 80/20 proportions\n",
    "train, test = train_test_split(data, test_size=0.2)"
   ]
  },
  {
   "cell_type": "markdown",
   "id": "9e858067",
   "metadata": {},
   "source": [
    "**Issue:**\n",
    "- Isn't reproducible: running it again results in different split\n",
    "- One solution: do this once and save\n",
    "- Another: set `random_state=42` to control shuffling and ensure reproducible output\n",
    "- But: neither of these work if you update the dataset. The textbook has a potential solution by splitting by hashed identifiers\n",
    "\n",
    "**Stratified Sampling:**\n",
    "- If dataset isn't large enough, random selection of test set can introduce sampling bias\n",
    "- Stratified sampling guarantees test set is representative of population by controlling for specific factors\n",
    "- Population is divided into *strata* and sample has same proportions in each stratum\n",
    "- Ex: controlling for gender\n",
    "- Use `StratifiedShuffleSplit` from Scikit-Learn"
   ]
  },
  {
   "cell_type": "code",
   "execution_count": 58,
   "id": "40a245d5",
   "metadata": {},
   "outputs": [
    {
     "data": {
      "text/html": [
       "<div>\n",
       "<style scoped>\n",
       "    .dataframe tbody tr th:only-of-type {\n",
       "        vertical-align: middle;\n",
       "    }\n",
       "\n",
       "    .dataframe tbody tr th {\n",
       "        vertical-align: top;\n",
       "    }\n",
       "\n",
       "    .dataframe thead th {\n",
       "        text-align: right;\n",
       "    }\n",
       "</style>\n",
       "<table border=\"1\" class=\"dataframe\">\n",
       "  <thead>\n",
       "    <tr style=\"text-align: right;\">\n",
       "      <th></th>\n",
       "      <th>cont</th>\n",
       "      <th>cat</th>\n",
       "    </tr>\n",
       "  </thead>\n",
       "  <tbody>\n",
       "    <tr>\n",
       "      <th>0</th>\n",
       "      <td>14.412158</td>\n",
       "      <td>low</td>\n",
       "    </tr>\n",
       "    <tr>\n",
       "      <th>1</th>\n",
       "      <td>77.628944</td>\n",
       "      <td>high</td>\n",
       "    </tr>\n",
       "    <tr>\n",
       "      <th>2</th>\n",
       "      <td>76.401231</td>\n",
       "      <td>high</td>\n",
       "    </tr>\n",
       "    <tr>\n",
       "      <th>3</th>\n",
       "      <td>6.073200</td>\n",
       "      <td>low</td>\n",
       "    </tr>\n",
       "    <tr>\n",
       "      <th>4</th>\n",
       "      <td>33.731694</td>\n",
       "      <td>medium</td>\n",
       "    </tr>\n",
       "    <tr>\n",
       "      <th>5</th>\n",
       "      <td>88.475088</td>\n",
       "      <td>high</td>\n",
       "    </tr>\n",
       "    <tr>\n",
       "      <th>6</th>\n",
       "      <td>80.144287</td>\n",
       "      <td>high</td>\n",
       "    </tr>\n",
       "    <tr>\n",
       "      <th>7</th>\n",
       "      <td>12.532280</td>\n",
       "      <td>low</td>\n",
       "    </tr>\n",
       "    <tr>\n",
       "      <th>8</th>\n",
       "      <td>7.919757</td>\n",
       "      <td>low</td>\n",
       "    </tr>\n",
       "    <tr>\n",
       "      <th>9</th>\n",
       "      <td>54.044066</td>\n",
       "      <td>medium</td>\n",
       "    </tr>\n",
       "  </tbody>\n",
       "</table>\n",
       "</div>"
      ],
      "text/plain": [
       "        cont     cat\n",
       "0  14.412158     low\n",
       "1  77.628944    high\n",
       "2  76.401231    high\n",
       "3   6.073200     low\n",
       "4  33.731694  medium\n",
       "5  88.475088    high\n",
       "6  80.144287    high\n",
       "7  12.532280     low\n",
       "8   7.919757     low\n",
       "9  54.044066  medium"
      ]
     },
     "execution_count": 58,
     "metadata": {},
     "output_type": "execute_result"
    }
   ],
   "source": [
    "# Uniformly sampled data from 0 to 100\n",
    "data = pd.DataFrame(100 * np.random.random(1000), columns=['cont'])\n",
    "\n",
    "# pd.cut to bin data - useful for turning continuous data into categorical (e.g. strata)\n",
    "data['cat'] = pd.cut(data['cont'], \n",
    "                     bins=[0, 33, 66, 100], \n",
    "                     labels=['low', 'medium', 'high'], \n",
    "                     include_lowest=True)\n",
    "\n",
    "data.head(10)"
   ]
  },
  {
   "cell_type": "code",
   "execution_count": 59,
   "id": "bdec87fa",
   "metadata": {},
   "outputs": [
    {
     "data": {
      "text/html": [
       "<div>\n",
       "<style scoped>\n",
       "    .dataframe tbody tr th:only-of-type {\n",
       "        vertical-align: middle;\n",
       "    }\n",
       "\n",
       "    .dataframe tbody tr th {\n",
       "        vertical-align: top;\n",
       "    }\n",
       "\n",
       "    .dataframe thead th {\n",
       "        text-align: right;\n",
       "    }\n",
       "</style>\n",
       "<table border=\"1\" class=\"dataframe\">\n",
       "  <thead>\n",
       "    <tr style=\"text-align: right;\">\n",
       "      <th></th>\n",
       "      <th>Overall</th>\n",
       "      <th>Train</th>\n",
       "      <th>Test</th>\n",
       "    </tr>\n",
       "  </thead>\n",
       "  <tbody>\n",
       "    <tr>\n",
       "      <th>low</th>\n",
       "      <td>0.319</td>\n",
       "      <td>0.31875</td>\n",
       "      <td>0.320</td>\n",
       "    </tr>\n",
       "    <tr>\n",
       "      <th>medium</th>\n",
       "      <td>0.335</td>\n",
       "      <td>0.33500</td>\n",
       "      <td>0.335</td>\n",
       "    </tr>\n",
       "    <tr>\n",
       "      <th>high</th>\n",
       "      <td>0.346</td>\n",
       "      <td>0.34625</td>\n",
       "      <td>0.345</td>\n",
       "    </tr>\n",
       "  </tbody>\n",
       "</table>\n",
       "</div>"
      ],
      "text/plain": [
       "        Overall    Train   Test\n",
       "low       0.319  0.31875  0.320\n",
       "medium    0.335  0.33500  0.335\n",
       "high      0.346  0.34625  0.345"
      ]
     },
     "execution_count": 59,
     "metadata": {},
     "output_type": "execute_result"
    }
   ],
   "source": [
    "from sklearn.model_selection import StratifiedShuffleSplit\n",
    "\n",
    "# Initialise split object\n",
    "split = StratifiedShuffleSplit(n_splits=1, test_size=0.2, random_state=42)\n",
    "\n",
    "# This loop has only one iteration but syntax is necessary because of split class\n",
    "# 2nd arg indicates what to control for, 1st arg just gives n_samples so can use np.zeros(n_samples)\n",
    "for train_index, test_index in split.split(data, data['cat']):\n",
    "    train = data.loc[train_index]\n",
    "    test = data.loc[test_index]\n",
    "\n",
    "# Function to compare proportions in the different sets\n",
    "def cat_proportions(df):\n",
    "    return df['cat'].value_counts() / len(df)\n",
    "\n",
    "# DataFrame to store results\n",
    "compare_props = pd.DataFrame({\n",
    "    'Overall': cat_proportions(data),\n",
    "    'Train' : cat_proportions(train),\n",
    "    'Test': cat_proportions(test),\n",
    "}).sort_index()\n",
    "\n",
    "compare_props"
   ]
  },
  {
   "cell_type": "markdown",
   "id": "8e8fe1e0",
   "metadata": {},
   "source": [
    "## Other Terminology\n",
    "\n",
    "**Data Pipeline**: a sequence of data processing components\n",
    "- Components run asynchronously and outputs are stored in data stores between components\n",
    "- Components are self-contained so if one component fails, downstream components can continue using last output\n",
    "- Monitoring is important so failing components can be caught and fixed\n",
    "\n",
    "**Map Reduce:** programming paradigm of using parallel, distributed algorithims to process data\n",
    "- To allow a group of (memory independent) computers to process data that is too much for a single processor"
   ]
  },
  {
   "cell_type": "markdown",
   "id": "1c9350d0",
   "metadata": {},
   "source": [
    "## Code Samples"
   ]
  },
  {
   "cell_type": "markdown",
   "id": "6b47f41e",
   "metadata": {},
   "source": [
    "### OS"
   ]
  },
  {
   "cell_type": "code",
   "execution_count": 1,
   "id": "570ef672",
   "metadata": {},
   "outputs": [],
   "source": [
    "import os # Operation system dependent functionality"
   ]
  },
  {
   "cell_type": "code",
   "execution_count": 14,
   "id": "5d3c72b8",
   "metadata": {},
   "outputs": [
    {
     "name": "stdout",
     "output_type": "stream",
     "text": [
      "/Users/christopherleonard/P/hands-on-machine-learning\n"
     ]
    }
   ],
   "source": [
    "PATH = '/Users/christopherleonard'\n",
    "\n",
    "# To combine path names into one complete path\n",
    "# Note that it adds the necessary slash\n",
    "ML_PATH = os.path.join(PATH, 'P/hands-on-machine-learning')\n",
    "print(ML_PATH)"
   ]
  },
  {
   "cell_type": "code",
   "execution_count": 15,
   "id": "3fbc9810",
   "metadata": {},
   "outputs": [
    {
     "data": {
      "text/plain": [
       "True"
      ]
     },
     "execution_count": 15,
     "metadata": {},
     "output_type": "execute_result"
    }
   ],
   "source": [
    "# Check if specified path is an existing directory\n",
    "os.path.isdir(ML_PATH)"
   ]
  },
  {
   "cell_type": "code",
   "execution_count": 18,
   "id": "9c41f14b",
   "metadata": {},
   "outputs": [],
   "source": [
    "# Create specified directory\n",
    "# Will return error if already exists\n",
    "TEST_PATH = os.path.join(ML_PATH, 'chapter-2/test')\n",
    "os.mkdir(TEST_PATH)\n",
    "\n",
    "# Also works with relative directory\n",
    "os.mkdir('test')"
   ]
  },
  {
   "cell_type": "markdown",
   "id": "727cd949",
   "metadata": {},
   "source": [
    "### pd.cut\n",
    "\n",
    "Useful for binning data, for example turning continuous data into categorical"
   ]
  },
  {
   "cell_type": "code",
   "execution_count": 46,
   "id": "15d9e0ba",
   "metadata": {},
   "outputs": [
    {
     "data": {
      "text/html": [
       "<div>\n",
       "<style scoped>\n",
       "    .dataframe tbody tr th:only-of-type {\n",
       "        vertical-align: middle;\n",
       "    }\n",
       "\n",
       "    .dataframe tbody tr th {\n",
       "        vertical-align: top;\n",
       "    }\n",
       "\n",
       "    .dataframe thead th {\n",
       "        text-align: right;\n",
       "    }\n",
       "</style>\n",
       "<table border=\"1\" class=\"dataframe\">\n",
       "  <thead>\n",
       "    <tr style=\"text-align: right;\">\n",
       "      <th></th>\n",
       "      <th>cont</th>\n",
       "      <th>cat</th>\n",
       "    </tr>\n",
       "  </thead>\n",
       "  <tbody>\n",
       "    <tr>\n",
       "      <th>0</th>\n",
       "      <td>58.210354</td>\n",
       "      <td>medium</td>\n",
       "    </tr>\n",
       "    <tr>\n",
       "      <th>1</th>\n",
       "      <td>28.998124</td>\n",
       "      <td>low</td>\n",
       "    </tr>\n",
       "    <tr>\n",
       "      <th>2</th>\n",
       "      <td>66.689417</td>\n",
       "      <td>high</td>\n",
       "    </tr>\n",
       "    <tr>\n",
       "      <th>3</th>\n",
       "      <td>64.775803</td>\n",
       "      <td>medium</td>\n",
       "    </tr>\n",
       "    <tr>\n",
       "      <th>4</th>\n",
       "      <td>43.950615</td>\n",
       "      <td>medium</td>\n",
       "    </tr>\n",
       "    <tr>\n",
       "      <th>5</th>\n",
       "      <td>67.655351</td>\n",
       "      <td>high</td>\n",
       "    </tr>\n",
       "    <tr>\n",
       "      <th>6</th>\n",
       "      <td>92.013886</td>\n",
       "      <td>high</td>\n",
       "    </tr>\n",
       "    <tr>\n",
       "      <th>7</th>\n",
       "      <td>95.371403</td>\n",
       "      <td>high</td>\n",
       "    </tr>\n",
       "    <tr>\n",
       "      <th>8</th>\n",
       "      <td>87.702804</td>\n",
       "      <td>high</td>\n",
       "    </tr>\n",
       "    <tr>\n",
       "      <th>9</th>\n",
       "      <td>61.873568</td>\n",
       "      <td>medium</td>\n",
       "    </tr>\n",
       "  </tbody>\n",
       "</table>\n",
       "</div>"
      ],
      "text/plain": [
       "        cont     cat\n",
       "0  58.210354  medium\n",
       "1  28.998124     low\n",
       "2  66.689417    high\n",
       "3  64.775803  medium\n",
       "4  43.950615  medium\n",
       "5  67.655351    high\n",
       "6  92.013886    high\n",
       "7  95.371403    high\n",
       "8  87.702804    high\n",
       "9  61.873568  medium"
      ]
     },
     "execution_count": 46,
     "metadata": {},
     "output_type": "execute_result"
    }
   ],
   "source": [
    "# Uniformly sampled data from 0 to 100\n",
    "data = pd.DataFrame(100 * np.random.random(50), columns=['cont'])\n",
    "\n",
    "# pd.cut to bin data - useful for turning continuous data into categorical (e.g. strata)\n",
    "data['cat'] = pd.cut(data['cont'], \n",
    "                     bins=[0, 33, 66, 100], \n",
    "                     labels=['low', 'medium', 'high'], \n",
    "                     include_lowest=True)\n",
    "\n",
    "data.head(10)"
   ]
  },
  {
   "cell_type": "code",
   "execution_count": null,
   "id": "359df432",
   "metadata": {},
   "outputs": [],
   "source": []
  }
 ],
 "metadata": {
  "kernelspec": {
   "display_name": "Python 3",
   "language": "python",
   "name": "python3"
  },
  "language_info": {
   "codemirror_mode": {
    "name": "ipython",
    "version": 3
   },
   "file_extension": ".py",
   "mimetype": "text/x-python",
   "name": "python",
   "nbconvert_exporter": "python",
   "pygments_lexer": "ipython3",
   "version": "3.7.7"
  }
 },
 "nbformat": 4,
 "nbformat_minor": 5
}
