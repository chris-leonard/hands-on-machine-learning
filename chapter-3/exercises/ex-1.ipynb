{
 "cells": [
  {
   "cell_type": "markdown",
   "id": "ed41679d-988c-4b64-a35b-736002587131",
   "metadata": {},
   "source": [
    "# Exercise 1"
   ]
  },
  {
   "cell_type": "markdown",
   "id": "0acbb5d9-3abf-4393-b7bb-5128841453be",
   "metadata": {},
   "source": [
    "Try to build a classifier for the MNIST dataset that achieves over 97% accuracy on the test set.\n",
    "\n",
    "---"
   ]
  },
  {
   "cell_type": "code",
   "execution_count": 1,
   "id": "a1f489b0-9f4a-4108-9370-05743d724cc6",
   "metadata": {},
   "outputs": [],
   "source": [
    "# Pydata stack\n",
    "import numpy as np\n",
    "import pandas as pd\n",
    "from matplotlib import pyplot as plt\n",
    "\n",
    "plt.rcParams[\"figure.figsize\"] = (20, 10)\n",
    "\n",
    "import time\n",
    "\n",
    "from sklearn import set_config  # Displays HTML representation of composite estimators\n",
    "from sklearn.datasets import fetch_openml  # For open source ML sets\n",
    "from sklearn.metrics import accuracy_score\n",
    "from sklearn.model_selection import GridSearchCV\n",
    "from sklearn.neighbors import KNeighborsClassifier\n",
    "\n",
    "set_config(display=\"diagram\")\n",
    "\n",
    "import os\n",
    "\n",
    "import joblib"
   ]
  },
  {
   "cell_type": "code",
   "execution_count": 2,
   "id": "c6de01f6-73f2-4070-bc22-a3067716c698",
   "metadata": {},
   "outputs": [],
   "source": [
    "# useful decorator\n",
    "def computation_time(func):\n",
    "    def inner(*args, **kwargs):\n",
    "        start = time.perf_counter()\n",
    "        func(*args, **kwargs)\n",
    "        end = time.perf_counter()\n",
    "        print(\"Computation time: {:.1f} seconds\".format(end - start))\n",
    "\n",
    "    return inner"
   ]
  },
  {
   "cell_type": "code",
   "execution_count": 3,
   "id": "499221a7-e7a7-49ab-88ba-8a0127858576",
   "metadata": {},
   "outputs": [],
   "source": [
    "MODELS_FOLDER = \"models\"\n",
    "MNIST_KNEIGHBOURS_CLASSIFIER_PATH = os.path.join(\n",
    "    MODELS_FOLDER, \"mnist-k-neighbours-classifier.pkl\"\n",
    ")"
   ]
  },
  {
   "cell_type": "markdown",
   "id": "e462f3d8-2be2-42f1-afc7-043ff5df61b4",
   "metadata": {},
   "source": [
    "## Get The Data"
   ]
  },
  {
   "cell_type": "code",
   "execution_count": 4,
   "id": "cf1eb585-5f4f-4fbf-aff9-af8d6dfcd672",
   "metadata": {},
   "outputs": [],
   "source": [
    "mnist = fetch_openml(\"mnist_784\", version=1)\n",
    "\n",
    "# load data into dataframes\n",
    "X, y = mnist[\"data\"], mnist[\"target\"]\n",
    "\n",
    "# use predefined train/test split\n",
    "X_train, X_test, y_train, y_test = (\n",
    "    X.iloc[:60000],\n",
    "    X.iloc[60000:],\n",
    "    y.iloc[:60000],\n",
    "    y.iloc[60000:],\n",
    ")\n",
    "num_samples = X_train.shape[0]"
   ]
  },
  {
   "cell_type": "markdown",
   "id": "e383c6f6-d8a8-49ca-a42c-5c7916a051ab",
   "metadata": {},
   "source": [
    "Is the dataset skewed?"
   ]
  },
  {
   "cell_type": "code",
   "execution_count": 5,
   "id": "270961c2-dd0a-4feb-8c7a-c7064574efb1",
   "metadata": {},
   "outputs": [
    {
     "data": {
      "text/plain": [
       "0     9.9\n",
       "1    11.2\n",
       "2     9.9\n",
       "3    10.2\n",
       "4     9.7\n",
       "5     9.0\n",
       "6     9.9\n",
       "7    10.4\n",
       "8     9.8\n",
       "9     9.9\n",
       "Name: class, dtype: float64"
      ]
     },
     "execution_count": 5,
     "metadata": {},
     "output_type": "execute_result"
    }
   ],
   "source": [
    "class_counts = y_train.value_counts().sort_index()\n",
    "class_pcts = 100 * class_counts / num_samples\n",
    "class_pcts.round(1)"
   ]
  },
  {
   "cell_type": "markdown",
   "id": "14b83bcc-c970-4c5a-9c07-b174388ae0c6",
   "metadata": {},
   "source": [
    "Different classes are essentially balanced."
   ]
  },
  {
   "cell_type": "markdown",
   "id": "ee0ad07c-0de4-43e4-bb47-5f6bc13a72fd",
   "metadata": {},
   "source": [
    "## Select and Train Model\n",
    "\n",
    "Use K-Nearest Neighbors classifier.\n",
    "\n",
    "**Warning:** This cell takes around 35 minutes to run! To save time we pickle the best model and load it if it exists."
   ]
  },
  {
   "cell_type": "code",
   "execution_count": 6,
   "id": "d18f8cc8-d2c9-4310-8493-86c8763ba412",
   "metadata": {},
   "outputs": [
    {
     "data": {
      "text/html": [
       "<style>div.sk-top-container {color: black;background-color: white;}div.sk-toggleable {background-color: white;}label.sk-toggleable__label {cursor: pointer;display: block;width: 100%;margin-bottom: 0;padding: 0.2em 0.3em;box-sizing: border-box;text-align: center;}div.sk-toggleable__content {max-height: 0;max-width: 0;overflow: hidden;text-align: left;background-color: #f0f8ff;}div.sk-toggleable__content pre {margin: 0.2em;color: black;border-radius: 0.25em;background-color: #f0f8ff;}input.sk-toggleable__control:checked~div.sk-toggleable__content {max-height: 200px;max-width: 100%;overflow: auto;}div.sk-estimator input.sk-toggleable__control:checked~label.sk-toggleable__label {background-color: #d4ebff;}div.sk-label input.sk-toggleable__control:checked~label.sk-toggleable__label {background-color: #d4ebff;}input.sk-hidden--visually {border: 0;clip: rect(1px 1px 1px 1px);clip: rect(1px, 1px, 1px, 1px);height: 1px;margin: -1px;overflow: hidden;padding: 0;position: absolute;width: 1px;}div.sk-estimator {font-family: monospace;background-color: #f0f8ff;margin: 0.25em 0.25em;border: 1px dotted black;border-radius: 0.25em;box-sizing: border-box;}div.sk-estimator:hover {background-color: #d4ebff;}div.sk-parallel-item::after {content: \"\";width: 100%;border-bottom: 1px solid gray;flex-grow: 1;}div.sk-label:hover label.sk-toggleable__label {background-color: #d4ebff;}div.sk-serial::before {content: \"\";position: absolute;border-left: 1px solid gray;box-sizing: border-box;top: 2em;bottom: 0;left: 50%;}div.sk-serial {display: flex;flex-direction: column;align-items: center;background-color: white;}div.sk-item {z-index: 1;}div.sk-parallel {display: flex;align-items: stretch;justify-content: center;background-color: white;}div.sk-parallel-item {display: flex;flex-direction: column;position: relative;background-color: white;}div.sk-parallel-item:first-child::after {align-self: flex-end;width: 50%;}div.sk-parallel-item:last-child::after {align-self: flex-start;width: 50%;}div.sk-parallel-item:only-child::after {width: 0;}div.sk-dashed-wrapped {border: 1px dashed gray;margin: 0.2em;box-sizing: border-box;padding-bottom: 0.1em;background-color: white;position: relative;}div.sk-label label {font-family: monospace;font-weight: bold;background-color: white;display: inline-block;line-height: 1.2em;}div.sk-label-container {position: relative;z-index: 2;text-align: center;}div.sk-container {display: inline-block;position: relative;}</style><div class=\"sk-top-container\"><div class=\"sk-container\"><div class=\"sk-item\"><div class=\"sk-estimator sk-toggleable\"><input class=\"sk-toggleable__control sk-hidden--visually\" id=\"d7f57efc-ba27-4944-bcd6-7cec4a6ddfdd\" type=\"checkbox\" checked><label class=\"sk-toggleable__label\" for=\"d7f57efc-ba27-4944-bcd6-7cec4a6ddfdd\">KNeighborsClassifier</label><div class=\"sk-toggleable__content\"><pre>KNeighborsClassifier(n_neighbors=4, weights='distance')</pre></div></div></div></div></div>"
      ],
      "text/plain": [
       "KNeighborsClassifier(n_neighbors=4, weights='distance')"
      ]
     },
     "execution_count": 6,
     "metadata": {},
     "output_type": "execute_result"
    }
   ],
   "source": [
    "@computation_time\n",
    "def knc_grid_search(X, y):\n",
    "    # initialise\n",
    "    knc_clf = KNeighborsClassifier()\n",
    "\n",
    "    # hyperparams to try\n",
    "    param_grid = [{\"n_neighbors\": [3, 4, 5], \"weights\": [\"uniform\", \"distance\"]}]\n",
    "\n",
    "    grid_search = GridSearchCV(\n",
    "        knc_clf,\n",
    "        param_grid,\n",
    "        scoring=\"accuracy\",\n",
    "        cv=5,\n",
    "        return_train_score=True,\n",
    "        refit=True,\n",
    "    )\n",
    "\n",
    "    grid_search.fit(X, y)\n",
    "\n",
    "    cv_results = grid_search.cv_results_\n",
    "\n",
    "    cv_summary = pd.DataFrame(cv_results[\"params\"])\n",
    "    cv_summary[\"mean_train_score\"] = cv_results[\"mean_train_score\"].round(3)\n",
    "    cv_summary[\"mean_test_score\"] = cv_results[\"mean_test_score\"].round(3)\n",
    "    cv_summary = cv_summary.sort_values(by=\"mean_test_score\", ascending=False)\n",
    "\n",
    "    return grid_search.best_estimator_, cv_results, cv_summary\n",
    "\n",
    "\n",
    "if os.path.isfile(MNIST_KNEIGHBOURS_CLASSIFIER_PATH):\n",
    "    knc_clf = joblib.load(MNIST_KNEIGHBOURS_CLASSIFIER_PATH)\n",
    "else:\n",
    "    knc_clf, cv_results, cv_summary = knc_grid_search(X_train, y_train)\n",
    "    print(cv_summary)\n",
    "\n",
    "    joblib.dump(knc_clf, MNIST_KNEIGHBOURS_CLASSIFIER_PATH)\n",
    "\n",
    "knc_clf"
   ]
  },
  {
   "cell_type": "markdown",
   "id": "56916d79-671b-49ce-9ca0-a00fc0f111fe",
   "metadata": {},
   "source": [
    "Training error isn't actually a useful metric here. We are weighting the importance of points by their distance. If a point in the training set is evaluated, it will be weighted very highly and so the algorithm will always give that label as its prediction. I think it's better to just look at test error."
   ]
  },
  {
   "cell_type": "markdown",
   "id": "0a0389a7-91fc-4df8-993f-4088b78ace43",
   "metadata": {},
   "source": [
    "## Evaluate on Test Set"
   ]
  },
  {
   "cell_type": "code",
   "execution_count": 7,
   "id": "3e876a1f-05bd-434e-891f-50aaf61a20de",
   "metadata": {},
   "outputs": [
    {
     "name": "stdout",
     "output_type": "stream",
     "text": [
      "Test Accuracy: 97.1%\n"
     ]
    }
   ],
   "source": [
    "y_test_pred = knc_clf.predict(X_test)\n",
    "acc = accuracy_score(y_test, y_test_pred)\n",
    "\n",
    "print(\"Test Accuracy: {:.1f}%\".format(100 * acc))"
   ]
  },
  {
   "cell_type": "markdown",
   "id": "3b718609-2e09-47d1-a663-3f3e8c9cd586",
   "metadata": {},
   "source": [
    "# Exercise 2\n",
    "\n",
    "Write a function that can shift an MNIST image in any direction (left, right, up, or down) by one pixel. Then, for each image in the training set, create four shifted copies (one per directionn) and add them to the training set. Finally, train your best model on this expanded training set and measure its accuracy on the test set. You should observe that your model performs even better now! This technique of artificially growing the training set is called *data augmentation* or *training set expansion*.\n",
    "\n",
    "---"
   ]
  },
  {
   "cell_type": "code",
   "execution_count": 98,
   "id": "1993307d-583d-49a5-b684-b343a6739636",
   "metadata": {},
   "outputs": [
    {
     "ename": "AttributeError",
     "evalue": "'numpy.ndarray' object has no attribute 'values'",
     "output_type": "error",
     "traceback": [
      "\u001b[0;31m---------------------------------------------------------------------------\u001b[0m",
      "\u001b[0;31mAttributeError\u001b[0m                            Traceback (most recent call last)",
      "\u001b[0;32m<ipython-input-98-0c838ba3190f>\u001b[0m in \u001b[0;36m<module>\u001b[0;34m\u001b[0m\n\u001b[1;32m      3\u001b[0m \u001b[0;34m\u001b[0m\u001b[0m\n\u001b[1;32m      4\u001b[0m \u001b[0;31m# want underlying arrays\u001b[0m\u001b[0;34m\u001b[0m\u001b[0;34m\u001b[0m\u001b[0;34m\u001b[0m\u001b[0m\n\u001b[0;32m----> 5\u001b[0;31m \u001b[0mX_train\u001b[0m \u001b[0;34m=\u001b[0m \u001b[0mX_train\u001b[0m\u001b[0;34m.\u001b[0m\u001b[0mvalues\u001b[0m\u001b[0;34m\u001b[0m\u001b[0;34m\u001b[0m\u001b[0m\n\u001b[0m\u001b[1;32m      6\u001b[0m \u001b[0my_train\u001b[0m \u001b[0;34m=\u001b[0m \u001b[0my_train\u001b[0m\u001b[0;34m.\u001b[0m\u001b[0mvalues\u001b[0m\u001b[0;34m\u001b[0m\u001b[0;34m\u001b[0m\u001b[0m\n\u001b[1;32m      7\u001b[0m \u001b[0;34m\u001b[0m\u001b[0m\n",
      "\u001b[0;31mAttributeError\u001b[0m: 'numpy.ndarray' object has no attribute 'values'"
     ]
    }
   ],
   "source": [
    "from random import randint\n",
    "from scipy.ndimage.interpolation import shift\n",
    "\n",
    "# want underlying arrays\n",
    "X_train = X_train.values\n",
    "y_train = y_train.values\n",
    "\n",
    "X_test = X_test.values\n",
    "y_test = y_test.values\n",
    "\n",
    "n_samples = len(y_train)"
   ]
  },
  {
   "cell_type": "markdown",
   "id": "6f93613d-cf88-46fd-ad6f-08804107edee",
   "metadata": {},
   "source": [
    "First show a random digit"
   ]
  },
  {
   "cell_type": "code",
   "execution_count": 99,
   "id": "d098c04c-71d2-4898-8354-743a27dbe58c",
   "metadata": {},
   "outputs": [
    {
     "name": "stdout",
     "output_type": "stream",
     "text": [
      "Digit label: 2\n"
     ]
    },
    {
     "data": {
      "image/png": "[encoded data removed]",
      "text/plain": [
       "<Figure size 1440x720 with 1 Axes>"
      ]
     },
     "metadata": {
      "needs_background": "light"
     },
     "output_type": "display_data"
    }
   ],
   "source": [
    "def show_digit(digit, ax=None):\n",
    "    digit_image = digit.reshape(28, 28)\n",
    "    \n",
    "    if ax:\n",
    "        ax.imshow(digit_image, cmap=\"binary\")\n",
    "        ax.axis(\"off\")\n",
    "    else:\n",
    "        plt.imshow(digit_image, cmap=\"binary\")\n",
    "        ax=plt.gca()\n",
    "    \n",
    "    ax.axis(\"off\")\n",
    "    \n",
    "# print random digit\n",
    "ex_ix = randint(0, num_samples - 1)\n",
    "print(\"Digit label: {}\".format(y_train[ex_ix]))\n",
    "\n",
    "ex_digit = X_train[ex_ix, :]\n",
    "show_digit(ex_digit)"
   ]
  },
  {
   "cell_type": "code",
   "execution_count": 101,
   "id": "cf0b2110-2924-4e86-90c2-e4ebb977939f",
   "metadata": {},
   "outputs": [
    {
     "data": {
      "image/png": "[encoded data removed]",
      "text/plain": [
       "<Figure size 1440x720 with 5 Axes>"
      ]
     },
     "metadata": {
      "needs_background": "light"
     },
     "output_type": "display_data"
    }
   ],
   "source": [
    "def shift_digits_one_pixel(X, direction):\n",
    "    direction_dict = {\n",
    "        \"up\":[0, -1, 0],\n",
    "        \"down\":[0, 1, 0],\n",
    "        \"left\":[0, 0, -1],\n",
    "        \"right\": [0, 0, 1]\n",
    "    }\n",
    "    direction_shift = direction_dict[direction]\n",
    "    \n",
    "    # reshape so each row is a 28x28 array\n",
    "    n_samples = len(X)\n",
    "    X_images = X.reshape(n_samples, 28, 28)\n",
    "    X_images_shift = shift(X_images, direction_shift)\n",
    "    X_shift = X_images_shift.reshape(n_samples, 784)\n",
    "    \n",
    "    return X_shift\n",
    "\n",
    "\n",
    "def augment_data(X, y):\n",
    "    X_aug = X.copy()\n",
    "    y_aug = y.copy()\n",
    "    \n",
    "    for direction in [\"up\", \"down\", \"left\", \"right\"]:\n",
    "        X_shift = shift_digits_one_pixel(X, direction)\n",
    "        X_aug = np.r_[X_aug, X_shift]\n",
    "        \n",
    "        y_aug = np.r_[y_aug, y]\n",
    "    \n",
    "    return X_aug, y_aug\n",
    "\n",
    "\n",
    "def plot_shifted_digits(X_aug, y_aug, ix):\n",
    "    fig, axs = plt.subplots(1, 5)\n",
    "\n",
    "    for i, direction in enumerate([\"none\", \"up\", \"down\", \"left\", \"right\"]):\n",
    "        ax = axs[i]\n",
    "\n",
    "        ix_shift = ix + n_samples * i\n",
    "        \n",
    "        digit = X_aug[ix_shift, :]\n",
    "        label = y_aug[ix_shift]\n",
    "        \n",
    "        show_digit(digit, ax=ax)\n",
    "        \n",
    "        ax.set_title(\"Label: {}, Shift: {}\".format(label, direction))\n",
    "\n",
    "\n",
    "X_train_aug, y_train_aug = augment_data(X_train, y_train)\n",
    "plot_shifted_digits(X_train_aug, y_train_aug, ex_ix)"
   ]
  },
  {
   "cell_type": "markdown",
   "id": "f583ed20-8e04-4218-b743-e02ea31efc7b",
   "metadata": {},
   "source": [
    "Train KNeighbours classifier on augmented data and test"
   ]
  },
  {
   "cell_type": "code",
   "execution_count": 103,
   "id": "178ccf96-39aa-4380-9eea-15c590c8c518",
   "metadata": {},
   "outputs": [
    {
     "name": "stdout",
     "output_type": "stream",
     "text": [
      "Computation time: 0.8 seconds\n"
     ]
    }
   ],
   "source": [
    "@computation_time\n",
    "def fit_classifier(clf, X, y):\n",
    "    clf.fit(X, y)\n",
    "    \n",
    "    return clf\n",
    "\n",
    "\n",
    "fit_classifier(knc_clf, X_train_aug, y_train_aug)"
   ]
  },
  {
   "cell_type": "code",
   "execution_count": 105,
   "id": "b1ab650a-c26d-482b-af83-9424e1315eaf",
   "metadata": {},
   "outputs": [
    {
     "name": "stdout",
     "output_type": "stream",
     "text": [
      "Test Accuracy: 97.6%\n"
     ]
    }
   ],
   "source": [
    "knc_clf.fit(X_train_aug, y_train_aug)\n",
    "y_test_pred = knc_clf.predict(X_test)\n",
    "acc = accuracy_score(y_test, y_test_pred)\n",
    "\n",
    "print(\"Test Accuracy: {:.1f}%\".format(100 * acc))"
   ]
  },
  {
   "cell_type": "markdown",
   "id": "9069107e-040b-4d9e-a7d0-f1e2e63c03fd",
   "metadata": {},
   "source": [
    "This is actually only slightly better."
   ]
  }
 ],
 "metadata": {
  "kernelspec": {
   "display_name": "Python 3",
   "language": "python",
   "name": "python3"
  },
  "language_info": {
   "codemirror_mode": {
    "name": "ipython",
    "version": 3
   },
   "file_extension": ".py",
   "mimetype": "text/x-python",
   "name": "python",
   "nbconvert_exporter": "python",
   "pygments_lexer": "ipython3",
   "version": "3.7.7"
  },
  "toc-autonumbering": false,
  "toc-showcode": false,
  "toc-showmarkdowntxt": false,
  "toc-showtags": false
 },
 "nbformat": 4,
 "nbformat_minor": 5
}
