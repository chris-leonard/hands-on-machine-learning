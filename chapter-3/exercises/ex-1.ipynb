{
 "cells": [
  {
   "cell_type": "markdown",
   "id": "ed41679d-988c-4b64-a35b-736002587131",
   "metadata": {},
   "source": [
    "# Exercise 1"
   ]
  },
  {
   "cell_type": "markdown",
   "id": "0acbb5d9-3abf-4393-b7bb-5128841453be",
   "metadata": {},
   "source": [
    "Try to build a classifier for the MNIST dataset that achieves over 97% accuracy on the test set.\n",
    "\n",
    "---"
   ]
  },
  {
   "cell_type": "code",
   "execution_count": 26,
   "id": "a1f489b0-9f4a-4108-9370-05743d724cc6",
   "metadata": {},
   "outputs": [],
   "source": [
    "# Pydata stack\n",
    "import numpy as np\n",
    "import pandas as pd\n",
    "from matplotlib import pyplot as plt\n",
    "\n",
    "plt.rcParams[\"figure.figsize\"] = (20, 10)\n",
    "\n",
    "import time\n",
    "\n",
    "from sklearn import set_config  # Displays HTML representation of composite estimators\n",
    "from sklearn.datasets import fetch_openml  # For open source ML sets\n",
    "from sklearn.metrics import accuracy_score\n",
    "from sklearn.model_selection import GridSearchCV\n",
    "from sklearn.neighbors import KNeighborsClassifier\n",
    "\n",
    "set_config(display=\"diagram\")"
   ]
  },
  {
   "cell_type": "code",
   "execution_count": 21,
   "id": "c6de01f6-73f2-4070-bc22-a3067716c698",
   "metadata": {},
   "outputs": [],
   "source": [
    "# useful decorator\n",
    "def computation_time(func):\n",
    "    def inner(*args, **kwargs):\n",
    "        start = time.perf_counter()\n",
    "        func(*args, **kwargs)\n",
    "        end = time.perf_counter()\n",
    "        print(\"Computation time: {:.1f} seconds\".format(end - start))\n",
    "\n",
    "    return inner"
   ]
  },
  {
   "cell_type": "markdown",
   "id": "e462f3d8-2be2-42f1-afc7-043ff5df61b4",
   "metadata": {},
   "source": [
    "## Get The Data"
   ]
  },
  {
   "cell_type": "code",
   "execution_count": 2,
   "id": "cf1eb585-5f4f-4fbf-aff9-af8d6dfcd672",
   "metadata": {},
   "outputs": [],
   "source": [
    "mnist = fetch_openml(\"mnist_784\", version=1)\n",
    "\n",
    "# load data into dataframes\n",
    "X, y = mnist[\"data\"], mnist[\"target\"]\n",
    "\n",
    "# use predefined train/test split\n",
    "X_train, X_test, y_train, y_test = (\n",
    "    X.iloc[:60000],\n",
    "    X.iloc[60000:],\n",
    "    y.iloc[:60000],\n",
    "    y.iloc[60000:],\n",
    ")"
   ]
  },
  {
   "cell_type": "markdown",
   "id": "e383c6f6-d8a8-49ca-a42c-5c7916a051ab",
   "metadata": {},
   "source": [
    "Is the dataset skewed?"
   ]
  },
  {
   "cell_type": "code",
   "execution_count": 4,
   "id": "270961c2-dd0a-4feb-8c7a-c7064574efb1",
   "metadata": {},
   "outputs": [
    {
     "data": {
      "text/plain": [
       "0     9.9\n",
       "1    11.2\n",
       "2     9.9\n",
       "3    10.2\n",
       "4     9.7\n",
       "5     9.0\n",
       "6     9.9\n",
       "7    10.4\n",
       "8     9.8\n",
       "9     9.9\n",
       "Name: class, dtype: float64"
      ]
     },
     "execution_count": 4,
     "metadata": {},
     "output_type": "execute_result"
    }
   ],
   "source": [
    "class_counts = y_train.value_counts().sort_index()\n",
    "class_pcts = 100 * class_counts / num_samples\n",
    "class_pcts.round(1)"
   ]
  },
  {
   "cell_type": "markdown",
   "id": "14b83bcc-c970-4c5a-9c07-b174388ae0c6",
   "metadata": {},
   "source": [
    "Different classes are essentially balanced."
   ]
  },
  {
   "cell_type": "markdown",
   "id": "ee0ad07c-0de4-43e4-bb47-5f6bc13a72fd",
   "metadata": {},
   "source": [
    "## Select and Train Model\n",
    "\n",
    "Use K-Nearest Neighbors classifier.\n",
    "\n",
    "**Warning:** This cell takes around 35 minutes to run!"
   ]
  },
  {
   "cell_type": "code",
   "execution_count": 10,
   "id": "d18f8cc8-d2c9-4310-8493-86c8763ba412",
   "metadata": {},
   "outputs": [
    {
     "name": "stdout",
     "output_type": "stream",
     "text": [
      "Mean Accuracy: 0.94\n"
     ]
    }
   ],
   "source": [
    "# initialise\n",
    "knc_clf = KNeighborsClassifier()\n",
    "\n",
    "# hyperparams to try\n",
    "param_grid = [{\"n_neighbors\": [3, 4, 5], \"weights\": [\"uniform\", \"distance\"]}]\n",
    "\n",
    "grid_search = GridSearchCV(\n",
    "    knc_clf,\n",
    "    param_grid,\n",
    "    scoring=\"accuracy\",\n",
    "    cv=5,\n",
    "    return_train_score=True,\n",
    "    refit=True,\n",
    ")\n",
    "\n",
    "\n",
    "@computation_time\n",
    "def knc_grid_search(X, y):\n",
    "    grid_search.fit(X, y)\n",
    "\n",
    "    cv_results = grid_search.cv_results_\n",
    "\n",
    "    cv_summary = pd.DataFrame(cv_results[\"params\"])\n",
    "    cv_summary[\"mean_train_score\"] = cv_results[\"mean_train_score\"].round(3)\n",
    "    cv_summary[\"mean_test_score\"] = cv_results[\"mean_test_score\"].round(3)\n",
    "    cv_summary = cv_summary.sort_values(by=\"mean_test_score\", ascending=False)\n",
    "\n",
    "    return cv_results, cv_summary\n",
    "\n",
    "\n",
    "knc_grid_search(X_train, y_train)"
   ]
  },
  {
   "cell_type": "markdown",
   "id": "56916d79-671b-49ce-9ca0-a00fc0f111fe",
   "metadata": {},
   "source": [
    "Training error isn't actually a useful metric here. We are weighting the importance of points by their distance. If a point in the training set is evaluated, it will be weighted very highly and so the algorithm will always give that label as its prediction. I think it's better to just look at test error."
   ]
  },
  {
   "cell_type": "code",
   "execution_count": 22,
   "id": "0e2c4228-f543-40e4-b35b-c96ed27578b5",
   "metadata": {},
   "outputs": [
    {
     "data": {
      "text/html": [
       "<style>div.sk-top-container {color: black;background-color: white;}div.sk-toggleable {background-color: white;}label.sk-toggleable__label {cursor: pointer;display: block;width: 100%;margin-bottom: 0;padding: 0.2em 0.3em;box-sizing: border-box;text-align: center;}div.sk-toggleable__content {max-height: 0;max-width: 0;overflow: hidden;text-align: left;background-color: #f0f8ff;}div.sk-toggleable__content pre {margin: 0.2em;color: black;border-radius: 0.25em;background-color: #f0f8ff;}input.sk-toggleable__control:checked~div.sk-toggleable__content {max-height: 200px;max-width: 100%;overflow: auto;}div.sk-estimator input.sk-toggleable__control:checked~label.sk-toggleable__label {background-color: #d4ebff;}div.sk-label input.sk-toggleable__control:checked~label.sk-toggleable__label {background-color: #d4ebff;}input.sk-hidden--visually {border: 0;clip: rect(1px 1px 1px 1px);clip: rect(1px, 1px, 1px, 1px);height: 1px;margin: -1px;overflow: hidden;padding: 0;position: absolute;width: 1px;}div.sk-estimator {font-family: monospace;background-color: #f0f8ff;margin: 0.25em 0.25em;border: 1px dotted black;border-radius: 0.25em;box-sizing: border-box;}div.sk-estimator:hover {background-color: #d4ebff;}div.sk-parallel-item::after {content: \"\";width: 100%;border-bottom: 1px solid gray;flex-grow: 1;}div.sk-label:hover label.sk-toggleable__label {background-color: #d4ebff;}div.sk-serial::before {content: \"\";position: absolute;border-left: 1px solid gray;box-sizing: border-box;top: 2em;bottom: 0;left: 50%;}div.sk-serial {display: flex;flex-direction: column;align-items: center;background-color: white;}div.sk-item {z-index: 1;}div.sk-parallel {display: flex;align-items: stretch;justify-content: center;background-color: white;}div.sk-parallel-item {display: flex;flex-direction: column;position: relative;background-color: white;}div.sk-parallel-item:first-child::after {align-self: flex-end;width: 50%;}div.sk-parallel-item:last-child::after {align-self: flex-start;width: 50%;}div.sk-parallel-item:only-child::after {width: 0;}div.sk-dashed-wrapped {border: 1px dashed gray;margin: 0.2em;box-sizing: border-box;padding-bottom: 0.1em;background-color: white;position: relative;}div.sk-label label {font-family: monospace;font-weight: bold;background-color: white;display: inline-block;line-height: 1.2em;}div.sk-label-container {position: relative;z-index: 2;text-align: center;}div.sk-container {display: inline-block;position: relative;}</style><div class=\"sk-top-container\"><div class=\"sk-container\"><div class=\"sk-item\"><div class=\"sk-estimator sk-toggleable\"><input class=\"sk-toggleable__control sk-hidden--visually\" id=\"5e271d71-5b4a-409d-84f0-5b992e8bf092\" type=\"checkbox\" checked><label class=\"sk-toggleable__label\" for=\"5e271d71-5b4a-409d-84f0-5b992e8bf092\">KNeighborsClassifier</label><div class=\"sk-toggleable__content\"><pre>KNeighborsClassifier(n_neighbors=4, weights='distance')</pre></div></div></div></div></div>"
      ],
      "text/plain": [
       "KNeighborsClassifier(n_neighbors=4, weights='distance')"
      ]
     },
     "execution_count": 22,
     "metadata": {},
     "output_type": "execute_result"
    }
   ],
   "source": [
    "knc_clf = grid_search.best_estimator_\n",
    "knc_clf"
   ]
  },
  {
   "cell_type": "markdown",
   "id": "0a0389a7-91fc-4df8-993f-4088b78ace43",
   "metadata": {},
   "source": [
    "## Evaluate on Test Set"
   ]
  },
  {
   "cell_type": "code",
   "execution_count": 24,
   "id": "3e876a1f-05bd-434e-891f-50aaf61a20de",
   "metadata": {},
   "outputs": [
    {
     "name": "stdout",
     "output_type": "stream",
     "text": [
      "Test Accuracy: 97.1%\n"
     ]
    }
   ],
   "source": [
    "y_test_pred = knc_clf.predict(X_test)\n",
    "acc = accuracy_score(y_test, y_test_pred)\n",
    "\n",
    "print(\"Test Accuracy: {:.1f}%\".format(100 * acc))"
   ]
  }
 ],
 "metadata": {
  "kernelspec": {
   "display_name": "Python 3",
   "language": "python",
   "name": "python3"
  },
  "language_info": {
   "codemirror_mode": {
    "name": "ipython",
    "version": 3
   },
   "file_extension": ".py",
   "mimetype": "text/x-python",
   "name": "python",
   "nbconvert_exporter": "python",
   "pygments_lexer": "ipython3",
   "version": "3.7.7"
  },
  "toc-autonumbering": false,
  "toc-showcode": false,
  "toc-showmarkdowntxt": false,
  "toc-showtags": false
 },
 "nbformat": 4,
 "nbformat_minor": 5
}
