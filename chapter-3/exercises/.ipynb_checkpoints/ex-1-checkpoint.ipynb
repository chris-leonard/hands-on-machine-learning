{
 "cells": [
  {
   "cell_type": "markdown",
   "id": "ed41679d-988c-4b64-a35b-736002587131",
   "metadata": {},
   "source": [
    "# Exercise 1"
   ]
  },
  {
   "cell_type": "markdown",
   "id": "0acbb5d9-3abf-4393-b7bb-5128841453be",
   "metadata": {},
   "source": [
    "Try to build a classifier for the MNIST dataset that achieves over 97% accuracy on the test set."
   ]
  },
  {
   "cell_type": "code",
   "execution_count": 141,
   "id": "a1f489b0-9f4a-4108-9370-05743d724cc6",
   "metadata": {},
   "outputs": [],
   "source": [
    "# Pydata stack\n",
    "import numpy as np\n",
    "import pandas as pd\n",
    "from matplotlib import pyplot as plt\n",
    "\n",
    "plt.rcParams[\"figure.figsize\"] = (20, 10)\n",
    "\n",
    "from random import randint\n",
    "from time import perf_counter  # To measure performance\n",
    "\n",
    "from sklearn.base import BaseEstimator\n",
    "\n",
    "# scikit-learn\n",
    "from sklearn.datasets import fetch_openml  # For open source ML sets\n",
    "from sklearn.metrics import (\n",
    "    confusion_matrix,\n",
    "    accuracy_score\n",
    ")\n",
    "from sklearn.model_selection import cross_val_predict, cross_val_score, GridSearchCV, KFold\n",
    "from sklearn.neighbors import KNeighborsClassifier\n",
    "from sklearn.pipeline import Pipeline, make_pipeline\n",
    "from sklearn.preprocessing import StandardScaler\n",
    "\n",
    "from sklearn import set_config  # Displays HTML representation of composite estimators\n",
    "set_config(display=\"diagram\")"
   ]
  },
  {
   "cell_type": "markdown",
   "id": "6d9e2fa9-2520-47f3-9442-f287e0a6bef2",
   "metadata": {},
   "source": [
    "## Look at the Big Picture\n",
    "\n",
    "**Goal:** Classifier with 97% *accuracy*."
   ]
  },
  {
   "cell_type": "markdown",
   "id": "e462f3d8-2be2-42f1-afc7-043ff5df61b4",
   "metadata": {},
   "source": [
    "## Get The Data"
   ]
  },
  {
   "cell_type": "code",
   "execution_count": 2,
   "id": "cf1eb585-5f4f-4fbf-aff9-af8d6dfcd672",
   "metadata": {},
   "outputs": [],
   "source": [
    "mnist = fetch_openml(\"mnist_784\", version=1)\n",
    "\n",
    "# load data into dataframes\n",
    "X, y = mnist[\"data\"], mnist[\"target\"]\n",
    "\n",
    "# use predefined train/test split\n",
    "X_train, X_test, y_train, y_test = (\n",
    "    X.iloc[:6000],\n",
    "    X.iloc[6000:],\n",
    "    y.iloc[:6000],\n",
    "    y.iloc[6000:],\n",
    ")"
   ]
  },
  {
   "cell_type": "markdown",
   "id": "3c481bd5-f5fb-46fe-876c-bcf39c62d8c3",
   "metadata": {},
   "source": [
    "## Discover and Visualise"
   ]
  },
  {
   "cell_type": "markdown",
   "id": "03a54805-f84f-4ebb-bec8-62be1ec93fab",
   "metadata": {},
   "source": [
    "Pick a digit to visualise."
   ]
  },
  {
   "cell_type": "code",
   "execution_count": 3,
   "id": "2d4898b4-f6c7-42ca-83a5-e985cd06ff64",
   "metadata": {},
   "outputs": [
    {
     "name": "stdout",
     "output_type": "stream",
     "text": [
      "Digit label: 0\n"
     ]
    },
    {
     "data": {
      "image/png": "[encoded data removed]",
      "text/plain": [
       "<Figure size 1440x720 with 1 Axes>"
      ]
     },
     "metadata": {
      "needs_background": "light"
     },
     "output_type": "display_data"
    }
   ],
   "source": [
    "# Generate random index and print label\n",
    "num_samples = X_train.shape[0]\n",
    "example_ix = randint(0, num_samples - 1)\n",
    "print(\"Digit label: {}\".format(y.iloc[example_ix]))\n",
    "\n",
    "# Get pixel data and put in correct shape\n",
    "example_digit = X.iloc[example_ix]\n",
    "example_digit = example_digit.values  # Want underlying Numpy array\n",
    "example_digit_image = example_digit.reshape(28, 28)\n",
    "\n",
    "# Show image\n",
    "plt.imshow(example_digit_image, cmap=\"binary\")\n",
    "plt.axis(\"off\");"
   ]
  },
  {
   "cell_type": "markdown",
   "id": "e383c6f6-d8a8-49ca-a42c-5c7916a051ab",
   "metadata": {},
   "source": [
    "Is the dataset skewed?"
   ]
  },
  {
   "cell_type": "code",
   "execution_count": 4,
   "id": "270961c2-dd0a-4feb-8c7a-c7064574efb1",
   "metadata": {},
   "outputs": [
    {
     "data": {
      "text/plain": [
       "0     9.9\n",
       "1    11.2\n",
       "2     9.7\n",
       "3    10.1\n",
       "4    10.4\n",
       "5     8.6\n",
       "6    10.1\n",
       "7    10.8\n",
       "8     9.2\n",
       "9    10.0\n",
       "Name: class, dtype: float64"
      ]
     },
     "execution_count": 4,
     "metadata": {},
     "output_type": "execute_result"
    }
   ],
   "source": [
    "class_counts = y_train.value_counts().sort_index()\n",
    "class_pcts = 100 * class_counts / num_samples\n",
    "class_pcts.round(1)"
   ]
  },
  {
   "cell_type": "markdown",
   "id": "14b83bcc-c970-4c5a-9c07-b174388ae0c6",
   "metadata": {},
   "source": [
    "Different classes are essentially balanced."
   ]
  },
  {
   "cell_type": "markdown",
   "id": "e48259af-428d-485d-8b5d-ed3b01edfa5f",
   "metadata": {},
   "source": [
    "## Prepare the Data"
   ]
  },
  {
   "cell_type": "markdown",
   "id": "2a546228-66e8-4c83-80f4-d4e2ccedfefd",
   "metadata": {},
   "source": [
    "### Missing Values"
   ]
  },
  {
   "cell_type": "code",
   "execution_count": 5,
   "id": "6477794e-d98b-4dbf-8572-bc9543d6fd2a",
   "metadata": {},
   "outputs": [
    {
     "data": {
      "text/plain": [
       "0"
      ]
     },
     "execution_count": 5,
     "metadata": {},
     "output_type": "execute_result"
    }
   ],
   "source": [
    "# total missing values\n",
    "X_train.isnull().sum().sum()"
   ]
  },
  {
   "cell_type": "markdown",
   "id": "0f53ba0a-9f26-45a0-8829-daa96f95d199",
   "metadata": {},
   "source": [
    "### Feature Scaling"
   ]
  },
  {
   "cell_type": "code",
   "execution_count": 6,
   "id": "fcf30831-487c-433e-949f-b012f97a485b",
   "metadata": {},
   "outputs": [
    {
     "data": {
      "text/plain": [
       "count    784.000000\n",
       "mean      33.525455\n",
       "std       42.747944\n",
       "min        0.000000\n",
       "25%        0.106917\n",
       "50%        7.397833\n",
       "75%       69.591583\n",
       "max      140.767333\n",
       "dtype: float64"
      ]
     },
     "execution_count": 6,
     "metadata": {},
     "output_type": "execute_result"
    }
   ],
   "source": [
    "# distribution of mean pixel values\n",
    "X_train.mean().describe()"
   ]
  },
  {
   "cell_type": "code",
   "execution_count": 7,
   "id": "c65d4c23-1b63-47a8-b137-1facc0f0376d",
   "metadata": {},
   "outputs": [
    {
     "data": {
      "text/plain": [
       "count      784.000000\n",
       "mean      4383.413493\n",
       "std       4994.377315\n",
       "min          0.000000\n",
       "25%         16.434569\n",
       "50%       1434.667600\n",
       "75%      10254.960547\n",
       "max      12970.111982\n",
       "dtype: float64"
      ]
     },
     "execution_count": 7,
     "metadata": {},
     "output_type": "execute_result"
    }
   ],
   "source": [
    "# distribution of variances amoung pixel values\n",
    "X_train.var().describe()"
   ]
  },
  {
   "cell_type": "markdown",
   "id": "7f6d24d5-128f-4999-b0aa-cca8b7307fe4",
   "metadata": {},
   "source": [
    "Features have widely different scales. Use standardisation (Min-Max is too sensitive to outliers)."
   ]
  },
  {
   "cell_type": "code",
   "execution_count": 8,
   "id": "b1070c79-d248-470d-8ede-2089286d4494",
   "metadata": {},
   "outputs": [
    {
     "data": {
      "text/plain": [
       "StandardScaler()"
      ]
     },
     "execution_count": 8,
     "metadata": {},
     "output_type": "execute_result"
    }
   ],
   "source": [
    "scaler = StandardScaler()\n",
    "scaler.fit(X_train)"
   ]
  },
  {
   "cell_type": "markdown",
   "id": "6faeb0f5-91b6-446f-a2c4-a3fb9394b21b",
   "metadata": {},
   "source": [
    "### Full Pipeline\n",
    "\n",
    "Put full pipeline together."
   ]
  },
  {
   "cell_type": "code",
   "execution_count": 9,
   "id": "2db427df-789c-4e1a-b327-1d32af639971",
   "metadata": {},
   "outputs": [],
   "source": [
    "full_pipeline = make_pipeline(StandardScaler())\n",
    "X_train_prep = full_pipeline.fit_transform(X_train)"
   ]
  },
  {
   "cell_type": "markdown",
   "id": "ee0ad07c-0de4-43e4-bb47-5f6bc13a72fd",
   "metadata": {},
   "source": [
    "## Select and Train Model\n",
    "\n",
    "Start with K-Neighbors using default hyperparameter values."
   ]
  },
  {
   "cell_type": "code",
   "execution_count": 20,
   "id": "d18f8cc8-d2c9-4310-8493-86c8763ba412",
   "metadata": {},
   "outputs": [
    {
     "name": "stdout",
     "output_type": "stream",
     "text": [
      "Mean Accuracy: 0.89\n"
     ]
    }
   ],
   "source": [
    "knc_clf = KNeighborsClassifier()\n",
    "cv_score = cross_val_score(knc_clf, X_train_prep, y_train, cv=5, scoring=\"accuracy\")\n",
    "print(\"Mean Accuracy: {:.2f}\".format(cv_score.mean()))"
   ]
  },
  {
   "cell_type": "markdown",
   "id": "0b347a3b-0498-4a82-b453-aa9939dd0174",
   "metadata": {},
   "source": [
    "## Fine-Tuning"
   ]
  },
  {
   "cell_type": "markdown",
   "id": "9d6502f6-7770-4085-8883-2adf70e775d4",
   "metadata": {},
   "source": [
    "### Grid Search for Hyperparameters"
   ]
  },
  {
   "cell_type": "code",
   "execution_count": 23,
   "id": "7a468dc3-833c-49d9-b329-07b7775ce8a4",
   "metadata": {},
   "outputs": [
    {
     "data": {
      "text/plain": [
       "{'algorithm': 'auto',\n",
       " 'leaf_size': 30,\n",
       " 'metric': 'minkowski',\n",
       " 'metric_params': None,\n",
       " 'n_jobs': None,\n",
       " 'n_neighbors': 5,\n",
       " 'p': 2,\n",
       " 'weights': 'uniform'}"
      ]
     },
     "execution_count": 23,
     "metadata": {},
     "output_type": "execute_result"
    }
   ],
   "source": [
    "# available hyperparameters\n",
    "knc_clf = KNeighborsClassifier()\n",
    "knc_clf.get_params()"
   ]
  },
  {
   "cell_type": "code",
   "execution_count": 29,
   "id": "05d4dc70-05dd-499f-b25d-3f497c91c025",
   "metadata": {},
   "outputs": [
    {
     "name": "stdout",
     "output_type": "stream",
     "text": [
      "Grid search run time: 40.9 seconds\n"
     ]
    }
   ],
   "source": [
    "# hyperparams to try\n",
    "param_grid = [\n",
    "    {\"n_neighbors\": [1, 3, 10, 30, 100], \"weights\": [\"uniform\", \"distance\"]}\n",
    "]\n",
    "\n",
    "# Initialise grid search\n",
    "grid_search = GridSearchCV(\n",
    "    knc_clf,\n",
    "    param_grid,\n",
    "    scoring=\"accuracy\",\n",
    "    cv=5,\n",
    "    return_train_score=True,\n",
    "    refit=True,\n",
    ")\n",
    "\n",
    "# Fit and time how long it takes\n",
    "start_time = perf_counter()\n",
    "grid_search.fit(X_train_prep, y_train)\n",
    "end_time = perf_counter()\n",
    "print(\"Grid search run time: {:0.1f} seconds\".format(end_time - start_time))"
   ]
  },
  {
   "cell_type": "code",
   "execution_count": 31,
   "id": "798d8922-c8f8-4af8-9d2a-68c2eda3f6b0",
   "metadata": {},
   "outputs": [
    {
     "data": {
      "text/plain": [
       "{'mean_fit_time': array([0.01720653, 0.01723337, 0.01733341, 0.01680522, 0.01741118,\n",
       "        0.01734185, 0.0171895 , 0.01666284, 0.01643329, 0.01654186]),\n",
       " 'std_fit_time': array([0.00207175, 0.00058674, 0.00067542, 0.00057293, 0.00119615,\n",
       "        0.00145147, 0.0006023 , 0.00070345, 0.00050385, 0.0003647 ]),\n",
       " 'mean_score_time': array([0.1217926 , 0.11159801, 0.15638499, 0.1242085 , 0.18745236,\n",
       "        0.1824791 , 0.21681318, 0.16291842, 0.2051208 , 0.17248592]),\n",
       " 'std_score_time': array([0.00672851, 0.00841808, 0.00765515, 0.00143594, 0.00289927,\n",
       "        0.00708854, 0.01554093, 0.00278527, 0.01612239, 0.00324724]),\n",
       " 'param_n_neighbors': masked_array(data=[1, 1, 3, 3, 10, 10, 30, 30, 100, 100],\n",
       "              mask=[False, False, False, False, False, False, False, False,\n",
       "                    False, False],\n",
       "        fill_value='?',\n",
       "             dtype=object),\n",
       " 'param_weights': masked_array(data=['uniform', 'distance', 'uniform', 'distance',\n",
       "                    'uniform', 'distance', 'uniform', 'distance',\n",
       "                    'uniform', 'distance'],\n",
       "              mask=[False, False, False, False, False, False, False, False,\n",
       "                    False, False],\n",
       "        fill_value='?',\n",
       "             dtype=object),\n",
       " 'params': [{'n_neighbors': 1, 'weights': 'uniform'},\n",
       "  {'n_neighbors': 1, 'weights': 'distance'},\n",
       "  {'n_neighbors': 3, 'weights': 'uniform'},\n",
       "  {'n_neighbors': 3, 'weights': 'distance'},\n",
       "  {'n_neighbors': 10, 'weights': 'uniform'},\n",
       "  {'n_neighbors': 10, 'weights': 'distance'},\n",
       "  {'n_neighbors': 30, 'weights': 'uniform'},\n",
       "  {'n_neighbors': 30, 'weights': 'distance'},\n",
       "  {'n_neighbors': 100, 'weights': 'uniform'},\n",
       "  {'n_neighbors': 100, 'weights': 'distance'}],\n",
       " 'split0_test_score': array([0.87083333, 0.87083333, 0.87333333, 0.88      , 0.8575    ,\n",
       "        0.8575    , 0.8425    , 0.84583333, 0.76833333, 0.78      ]),\n",
       " 'split1_test_score': array([0.9       , 0.9       , 0.90833333, 0.91166667, 0.90416667,\n",
       "        0.90833333, 0.885     , 0.89083333, 0.81583333, 0.825     ]),\n",
       " 'split2_test_score': array([0.88916667, 0.88916667, 0.90833333, 0.90666667, 0.9025    ,\n",
       "        0.90666667, 0.87666667, 0.88      , 0.8025    , 0.81      ]),\n",
       " 'split3_test_score': array([0.8925    , 0.8925    , 0.88583333, 0.89166667, 0.87833333,\n",
       "        0.8875    , 0.86083333, 0.86666667, 0.79583333, 0.80083333]),\n",
       " 'split4_test_score': array([0.90166667, 0.90166667, 0.88833333, 0.895     , 0.89166667,\n",
       "        0.89416667, 0.86833333, 0.86833333, 0.79833333, 0.81      ]),\n",
       " 'mean_test_score': array([0.89083333, 0.89083333, 0.89283333, 0.897     , 0.88683333,\n",
       "        0.89083333, 0.86666667, 0.87033333, 0.79616667, 0.80516667]),\n",
       " 'std_test_score': array([0.01101766, 0.01101766, 0.01363818, 0.01122497, 0.01733173,\n",
       "        0.01838629, 0.01453922, 0.01504253, 0.01553312, 0.01477987]),\n",
       " 'rank_test_score': array([ 3,  3,  2,  1,  6,  3,  8,  7, 10,  9], dtype=int32),\n",
       " 'split0_train_score': array([1.        , 1.        , 0.95291667, 1.        , 0.920625  ,\n",
       "        1.        , 0.88645833, 1.        , 0.814375  , 1.        ]),\n",
       " 'split1_train_score': array([1.        , 1.        , 0.94916667, 1.        , 0.91229167,\n",
       "        1.        , 0.87416667, 1.        , 0.8025    , 1.        ]),\n",
       " 'split2_train_score': array([1.        , 1.        , 0.94666667, 1.        , 0.91541667,\n",
       "        1.        , 0.87375   , 1.        , 0.803125  , 1.        ]),\n",
       " 'split3_train_score': array([1.        , 1.        , 0.94666667, 1.        , 0.914375  ,\n",
       "        1.        , 0.876875  , 1.        , 0.80729167, 1.        ]),\n",
       " 'split4_train_score': array([1.        , 1.        , 0.94979167, 1.        , 0.910625  ,\n",
       "        1.        , 0.88270833, 1.        , 0.80666667, 1.        ]),\n",
       " 'mean_train_score': array([1.        , 1.        , 0.94904167, 1.        , 0.91466667,\n",
       "        1.        , 0.87879167, 1.        , 0.80679167, 1.        ]),\n",
       " 'std_train_score': array([0.        , 0.        , 0.0023184 , 0.        , 0.00340955,\n",
       "        0.        , 0.00499201, 0.        , 0.00423404, 0.        ])}"
      ]
     },
     "execution_count": 31,
     "metadata": {},
     "output_type": "execute_result"
    }
   ],
   "source": [
    "# full results\n",
    "cv_results = grid_search.cv_results_\n",
    "cv_results"
   ]
  },
  {
   "cell_type": "code",
   "execution_count": 40,
   "id": "5b8e084a-0261-40e8-a493-1ef527a28640",
   "metadata": {},
   "outputs": [
    {
     "data": {
      "text/html": [
       "<div>\n",
       "<style scoped>\n",
       "    .dataframe tbody tr th:only-of-type {\n",
       "        vertical-align: middle;\n",
       "    }\n",
       "\n",
       "    .dataframe tbody tr th {\n",
       "        vertical-align: top;\n",
       "    }\n",
       "\n",
       "    .dataframe thead th {\n",
       "        text-align: right;\n",
       "    }\n",
       "</style>\n",
       "<table border=\"1\" class=\"dataframe\">\n",
       "  <thead>\n",
       "    <tr style=\"text-align: right;\">\n",
       "      <th></th>\n",
       "      <th>n_neighbors</th>\n",
       "      <th>weights</th>\n",
       "      <th>mean_train_score</th>\n",
       "      <th>mean_test_score</th>\n",
       "    </tr>\n",
       "  </thead>\n",
       "  <tbody>\n",
       "    <tr>\n",
       "      <th>3</th>\n",
       "      <td>3</td>\n",
       "      <td>distance</td>\n",
       "      <td>1.000</td>\n",
       "      <td>0.897</td>\n",
       "    </tr>\n",
       "    <tr>\n",
       "      <th>2</th>\n",
       "      <td>3</td>\n",
       "      <td>uniform</td>\n",
       "      <td>0.949</td>\n",
       "      <td>0.893</td>\n",
       "    </tr>\n",
       "    <tr>\n",
       "      <th>0</th>\n",
       "      <td>1</td>\n",
       "      <td>uniform</td>\n",
       "      <td>1.000</td>\n",
       "      <td>0.891</td>\n",
       "    </tr>\n",
       "    <tr>\n",
       "      <th>1</th>\n",
       "      <td>1</td>\n",
       "      <td>distance</td>\n",
       "      <td>1.000</td>\n",
       "      <td>0.891</td>\n",
       "    </tr>\n",
       "    <tr>\n",
       "      <th>5</th>\n",
       "      <td>10</td>\n",
       "      <td>distance</td>\n",
       "      <td>1.000</td>\n",
       "      <td>0.891</td>\n",
       "    </tr>\n",
       "    <tr>\n",
       "      <th>4</th>\n",
       "      <td>10</td>\n",
       "      <td>uniform</td>\n",
       "      <td>0.915</td>\n",
       "      <td>0.887</td>\n",
       "    </tr>\n",
       "    <tr>\n",
       "      <th>7</th>\n",
       "      <td>30</td>\n",
       "      <td>distance</td>\n",
       "      <td>1.000</td>\n",
       "      <td>0.870</td>\n",
       "    </tr>\n",
       "    <tr>\n",
       "      <th>6</th>\n",
       "      <td>30</td>\n",
       "      <td>uniform</td>\n",
       "      <td>0.879</td>\n",
       "      <td>0.867</td>\n",
       "    </tr>\n",
       "    <tr>\n",
       "      <th>9</th>\n",
       "      <td>100</td>\n",
       "      <td>distance</td>\n",
       "      <td>1.000</td>\n",
       "      <td>0.805</td>\n",
       "    </tr>\n",
       "    <tr>\n",
       "      <th>8</th>\n",
       "      <td>100</td>\n",
       "      <td>uniform</td>\n",
       "      <td>0.807</td>\n",
       "      <td>0.796</td>\n",
       "    </tr>\n",
       "  </tbody>\n",
       "</table>\n",
       "</div>"
      ],
      "text/plain": [
       "   n_neighbors   weights  mean_train_score  mean_test_score\n",
       "3            3  distance             1.000            0.897\n",
       "2            3   uniform             0.949            0.893\n",
       "0            1   uniform             1.000            0.891\n",
       "1            1  distance             1.000            0.891\n",
       "5           10  distance             1.000            0.891\n",
       "4           10   uniform             0.915            0.887\n",
       "7           30  distance             1.000            0.870\n",
       "6           30   uniform             0.879            0.867\n",
       "9          100  distance             1.000            0.805\n",
       "8          100   uniform             0.807            0.796"
      ]
     },
     "execution_count": 40,
     "metadata": {},
     "output_type": "execute_result"
    }
   ],
   "source": [
    "def generate_grid_search_cv_summary(cv_results):\n",
    "    cv_summary = pd.DataFrame(cv_results['params'])\n",
    "    cv_summary[\"mean_train_score\"] = cv_results[\"mean_train_score\"].round(3)\n",
    "    cv_summary[\"mean_test_score\"] = cv_results[\"mean_test_score\"].round(3)\n",
    "    cv_summary = cv_summary.sort_values(by=\"mean_test_score\", ascending=False)\n",
    "    \n",
    "    return cv_summary\n",
    "\n",
    "\n",
    "cv_summary = generate_grid_search_cv_summary(cv_results)\n",
    "cv_summary"
   ]
  },
  {
   "cell_type": "markdown",
   "id": "7be4222a-f084-46b1-be60-f052c67dde8d",
   "metadata": {},
   "source": [
    "There seems to be a lot of overfitting going on, particularly with 'distance' weights.\n",
    "\n",
    "Possible solutions to over-fitting:\n",
    "- Simplify model (possibly by applying regularisation)\n",
    "- Gather more data\n",
    "- Reduce noise in training data\n",
    "\n",
    "From the docs:\n",
    "- \"in general a larger $k$ suppresses the effects of noise, but makes the classification boundaries less distinct\"\n",
    "- Weights:\n",
    "    - \"the value assigned to a query point is computed from a simple majority vote of the nearest neighbors\"\n",
    "    - \"`weights = 'distance'` assigns weights proportional to the inverse of the distance from the query point\""
   ]
  },
  {
   "cell_type": "markdown",
   "id": "26c9ad34-d5d7-4e09-a322-1c4e165ed4eb",
   "metadata": {},
   "source": [
    "I don't understand why distance weights has 100% accuracy regardless of the value of $k$ - increasing this should reduce overfitting. I'm going to try higher values of $k$."
   ]
  },
  {
   "cell_type": "code",
   "execution_count": 39,
   "id": "e8c88e6e-fbe5-4134-9697-dc9e39a85bd4",
   "metadata": {},
   "outputs": [
    {
     "name": "stdout",
     "output_type": "stream",
     "text": [
      "Grid search run time: 19.4 seconds\n"
     ]
    }
   ],
   "source": [
    "# hyperparams to try\n",
    "param_grid = [\n",
    "    {\"n_neighbors\": [100, 300, 1000], \"weights\": [\"distance\"]}\n",
    "]\n",
    "\n",
    "# Initialise grid search\n",
    "grid_search = GridSearchCV(\n",
    "    knc_clf,\n",
    "    param_grid,\n",
    "    scoring=\"accuracy\",\n",
    "    cv=5,\n",
    "    return_train_score=True,\n",
    "    refit=True,\n",
    ")\n",
    "\n",
    "# Fit and time how long it takes\n",
    "start_time = perf_counter()\n",
    "grid_search.fit(X_train_prep, y_train)\n",
    "end_time = perf_counter()\n",
    "print(\"Grid search run time: {:0.1f} seconds\".format(end_time - start_time))"
   ]
  },
  {
   "cell_type": "code",
   "execution_count": 41,
   "id": "66bcd615-2660-4905-a330-1dcf80ad7397",
   "metadata": {},
   "outputs": [
    {
     "data": {
      "text/html": [
       "<div>\n",
       "<style scoped>\n",
       "    .dataframe tbody tr th:only-of-type {\n",
       "        vertical-align: middle;\n",
       "    }\n",
       "\n",
       "    .dataframe tbody tr th {\n",
       "        vertical-align: top;\n",
       "    }\n",
       "\n",
       "    .dataframe thead th {\n",
       "        text-align: right;\n",
       "    }\n",
       "</style>\n",
       "<table border=\"1\" class=\"dataframe\">\n",
       "  <thead>\n",
       "    <tr style=\"text-align: right;\">\n",
       "      <th></th>\n",
       "      <th>n_neighbors</th>\n",
       "      <th>weights</th>\n",
       "      <th>mean_train_score</th>\n",
       "      <th>mean_test_score</th>\n",
       "    </tr>\n",
       "  </thead>\n",
       "  <tbody>\n",
       "    <tr>\n",
       "      <th>0</th>\n",
       "      <td>100</td>\n",
       "      <td>distance</td>\n",
       "      <td>1.0</td>\n",
       "      <td>0.805</td>\n",
       "    </tr>\n",
       "    <tr>\n",
       "      <th>1</th>\n",
       "      <td>300</td>\n",
       "      <td>distance</td>\n",
       "      <td>1.0</td>\n",
       "      <td>0.675</td>\n",
       "    </tr>\n",
       "    <tr>\n",
       "      <th>2</th>\n",
       "      <td>1000</td>\n",
       "      <td>distance</td>\n",
       "      <td>1.0</td>\n",
       "      <td>0.439</td>\n",
       "    </tr>\n",
       "  </tbody>\n",
       "</table>\n",
       "</div>"
      ],
      "text/plain": [
       "   n_neighbors   weights  mean_train_score  mean_test_score\n",
       "0          100  distance               1.0            0.805\n",
       "1          300  distance               1.0            0.675\n",
       "2         1000  distance               1.0            0.439"
      ]
     },
     "execution_count": 41,
     "metadata": {},
     "output_type": "execute_result"
    }
   ],
   "source": [
    "cv_results = grid_search.cv_results_\n",
    "cv_summary = generate_grid_search_cv_summary(cv_results)\n",
    "cv_summary"
   ]
  },
  {
   "cell_type": "markdown",
   "id": "1ad1bf7f-656c-4e19-a3d5-a97997b8d32e",
   "metadata": {},
   "source": [
    "Again, mean train score is always 1. \n",
    "\n",
    "I don't thinking training error is actually a useful metric here. We are weighting the importance of points by their distance. If a point in the training set is evaluated, it will be weighted very highly and so the algorithm will always give that label as its prediction. I think it's better to just look at test error."
   ]
  },
  {
   "cell_type": "markdown",
   "id": "4ec517c9-dad2-47dd-aa55-2ed7e4afe8b2",
   "metadata": {},
   "source": [
    "Based on the first set, it looks like $k$ between 1 and 10 is best."
   ]
  },
  {
   "cell_type": "code",
   "execution_count": 43,
   "id": "79923ae1-db7d-4ba6-85fa-7647ae0923ad",
   "metadata": {},
   "outputs": [
    {
     "name": "stdout",
     "output_type": "stream",
     "text": [
      "Grid search run time: 82.6 seconds\n"
     ]
    }
   ],
   "source": [
    "# hyperparams to try\n",
    "param_grid = [\n",
    "    {\"n_neighbors\": [1, 2, 3, 4, 5, 6, 7, 8, 9, 10], \"weights\": [\"uniform\", \"distance\"]}\n",
    "]\n",
    "\n",
    "# Initialise grid search\n",
    "grid_search = GridSearchCV(\n",
    "    knc_clf,\n",
    "    param_grid,\n",
    "    scoring=\"accuracy\",\n",
    "    cv=5,\n",
    "    return_train_score=True,\n",
    "    refit=True,\n",
    ")\n",
    "\n",
    "# Fit and time how long it takes\n",
    "start_time = perf_counter()\n",
    "grid_search.fit(X_train_prep, y_train)\n",
    "end_time = perf_counter()\n",
    "print(\"Grid search run time: {:0.1f} seconds\".format(end_time - start_time))"
   ]
  },
  {
   "cell_type": "code",
   "execution_count": 44,
   "id": "997be7ac-014a-42de-a482-c601759320c2",
   "metadata": {},
   "outputs": [
    {
     "data": {
      "text/html": [
       "<div>\n",
       "<style scoped>\n",
       "    .dataframe tbody tr th:only-of-type {\n",
       "        vertical-align: middle;\n",
       "    }\n",
       "\n",
       "    .dataframe tbody tr th {\n",
       "        vertical-align: top;\n",
       "    }\n",
       "\n",
       "    .dataframe thead th {\n",
       "        text-align: right;\n",
       "    }\n",
       "</style>\n",
       "<table border=\"1\" class=\"dataframe\">\n",
       "  <thead>\n",
       "    <tr style=\"text-align: right;\">\n",
       "      <th></th>\n",
       "      <th>n_neighbors</th>\n",
       "      <th>weights</th>\n",
       "      <th>mean_train_score</th>\n",
       "      <th>mean_test_score</th>\n",
       "    </tr>\n",
       "  </thead>\n",
       "  <tbody>\n",
       "    <tr>\n",
       "      <th>11</th>\n",
       "      <td>6</td>\n",
       "      <td>distance</td>\n",
       "      <td>1.000</td>\n",
       "      <td>0.903</td>\n",
       "    </tr>\n",
       "    <tr>\n",
       "      <th>7</th>\n",
       "      <td>4</td>\n",
       "      <td>distance</td>\n",
       "      <td>1.000</td>\n",
       "      <td>0.901</td>\n",
       "    </tr>\n",
       "    <tr>\n",
       "      <th>9</th>\n",
       "      <td>5</td>\n",
       "      <td>distance</td>\n",
       "      <td>1.000</td>\n",
       "      <td>0.899</td>\n",
       "    </tr>\n",
       "    <tr>\n",
       "      <th>5</th>\n",
       "      <td>3</td>\n",
       "      <td>distance</td>\n",
       "      <td>1.000</td>\n",
       "      <td>0.897</td>\n",
       "    </tr>\n",
       "    <tr>\n",
       "      <th>15</th>\n",
       "      <td>8</td>\n",
       "      <td>distance</td>\n",
       "      <td>1.000</td>\n",
       "      <td>0.896</td>\n",
       "    </tr>\n",
       "    <tr>\n",
       "      <th>13</th>\n",
       "      <td>7</td>\n",
       "      <td>distance</td>\n",
       "      <td>1.000</td>\n",
       "      <td>0.896</td>\n",
       "    </tr>\n",
       "    <tr>\n",
       "      <th>8</th>\n",
       "      <td>5</td>\n",
       "      <td>uniform</td>\n",
       "      <td>0.933</td>\n",
       "      <td>0.895</td>\n",
       "    </tr>\n",
       "    <tr>\n",
       "      <th>4</th>\n",
       "      <td>3</td>\n",
       "      <td>uniform</td>\n",
       "      <td>0.949</td>\n",
       "      <td>0.893</td>\n",
       "    </tr>\n",
       "    <tr>\n",
       "      <th>10</th>\n",
       "      <td>6</td>\n",
       "      <td>uniform</td>\n",
       "      <td>0.927</td>\n",
       "      <td>0.892</td>\n",
       "    </tr>\n",
       "    <tr>\n",
       "      <th>6</th>\n",
       "      <td>4</td>\n",
       "      <td>uniform</td>\n",
       "      <td>0.938</td>\n",
       "      <td>0.892</td>\n",
       "    </tr>\n",
       "    <tr>\n",
       "      <th>12</th>\n",
       "      <td>7</td>\n",
       "      <td>uniform</td>\n",
       "      <td>0.923</td>\n",
       "      <td>0.891</td>\n",
       "    </tr>\n",
       "    <tr>\n",
       "      <th>17</th>\n",
       "      <td>9</td>\n",
       "      <td>distance</td>\n",
       "      <td>1.000</td>\n",
       "      <td>0.891</td>\n",
       "    </tr>\n",
       "    <tr>\n",
       "      <th>0</th>\n",
       "      <td>1</td>\n",
       "      <td>uniform</td>\n",
       "      <td>1.000</td>\n",
       "      <td>0.891</td>\n",
       "    </tr>\n",
       "    <tr>\n",
       "      <th>1</th>\n",
       "      <td>1</td>\n",
       "      <td>distance</td>\n",
       "      <td>1.000</td>\n",
       "      <td>0.891</td>\n",
       "    </tr>\n",
       "    <tr>\n",
       "      <th>3</th>\n",
       "      <td>2</td>\n",
       "      <td>distance</td>\n",
       "      <td>1.000</td>\n",
       "      <td>0.891</td>\n",
       "    </tr>\n",
       "    <tr>\n",
       "      <th>19</th>\n",
       "      <td>10</td>\n",
       "      <td>distance</td>\n",
       "      <td>1.000</td>\n",
       "      <td>0.891</td>\n",
       "    </tr>\n",
       "    <tr>\n",
       "      <th>14</th>\n",
       "      <td>8</td>\n",
       "      <td>uniform</td>\n",
       "      <td>0.920</td>\n",
       "      <td>0.889</td>\n",
       "    </tr>\n",
       "    <tr>\n",
       "      <th>16</th>\n",
       "      <td>9</td>\n",
       "      <td>uniform</td>\n",
       "      <td>0.917</td>\n",
       "      <td>0.887</td>\n",
       "    </tr>\n",
       "    <tr>\n",
       "      <th>18</th>\n",
       "      <td>10</td>\n",
       "      <td>uniform</td>\n",
       "      <td>0.915</td>\n",
       "      <td>0.887</td>\n",
       "    </tr>\n",
       "    <tr>\n",
       "      <th>2</th>\n",
       "      <td>2</td>\n",
       "      <td>uniform</td>\n",
       "      <td>0.947</td>\n",
       "      <td>0.875</td>\n",
       "    </tr>\n",
       "  </tbody>\n",
       "</table>\n",
       "</div>"
      ],
      "text/plain": [
       "    n_neighbors   weights  mean_train_score  mean_test_score\n",
       "11            6  distance             1.000            0.903\n",
       "7             4  distance             1.000            0.901\n",
       "9             5  distance             1.000            0.899\n",
       "5             3  distance             1.000            0.897\n",
       "15            8  distance             1.000            0.896\n",
       "13            7  distance             1.000            0.896\n",
       "8             5   uniform             0.933            0.895\n",
       "4             3   uniform             0.949            0.893\n",
       "10            6   uniform             0.927            0.892\n",
       "6             4   uniform             0.938            0.892\n",
       "12            7   uniform             0.923            0.891\n",
       "17            9  distance             1.000            0.891\n",
       "0             1   uniform             1.000            0.891\n",
       "1             1  distance             1.000            0.891\n",
       "3             2  distance             1.000            0.891\n",
       "19           10  distance             1.000            0.891\n",
       "14            8   uniform             0.920            0.889\n",
       "16            9   uniform             0.917            0.887\n",
       "18           10   uniform             0.915            0.887\n",
       "2             2   uniform             0.947            0.875"
      ]
     },
     "execution_count": 44,
     "metadata": {},
     "output_type": "execute_result"
    }
   ],
   "source": [
    "cv_results = grid_search.cv_results_\n",
    "cv_summary = generate_grid_search_cv_summary(cv_results)\n",
    "cv_summary"
   ]
  },
  {
   "cell_type": "markdown",
   "id": "8ee4d894-f129-48d6-8956-182b30320931",
   "metadata": {},
   "source": [
    "There is a bit of improvement, but it seems that test score it plateaued around 0.9."
   ]
  },
  {
   "cell_type": "code",
   "execution_count": 48,
   "id": "f8885366-caf1-4719-8819-816d2709ad98",
   "metadata": {},
   "outputs": [
    {
     "data": {
      "text/html": [
       "<style>div.sk-top-container {color: black;background-color: white;}div.sk-toggleable {background-color: white;}label.sk-toggleable__label {cursor: pointer;display: block;width: 100%;margin-bottom: 0;padding: 0.2em 0.3em;box-sizing: border-box;text-align: center;}div.sk-toggleable__content {max-height: 0;max-width: 0;overflow: hidden;text-align: left;background-color: #f0f8ff;}div.sk-toggleable__content pre {margin: 0.2em;color: black;border-radius: 0.25em;background-color: #f0f8ff;}input.sk-toggleable__control:checked~div.sk-toggleable__content {max-height: 200px;max-width: 100%;overflow: auto;}div.sk-estimator input.sk-toggleable__control:checked~label.sk-toggleable__label {background-color: #d4ebff;}div.sk-label input.sk-toggleable__control:checked~label.sk-toggleable__label {background-color: #d4ebff;}input.sk-hidden--visually {border: 0;clip: rect(1px 1px 1px 1px);clip: rect(1px, 1px, 1px, 1px);height: 1px;margin: -1px;overflow: hidden;padding: 0;position: absolute;width: 1px;}div.sk-estimator {font-family: monospace;background-color: #f0f8ff;margin: 0.25em 0.25em;border: 1px dotted black;border-radius: 0.25em;box-sizing: border-box;}div.sk-estimator:hover {background-color: #d4ebff;}div.sk-parallel-item::after {content: \"\";width: 100%;border-bottom: 1px solid gray;flex-grow: 1;}div.sk-label:hover label.sk-toggleable__label {background-color: #d4ebff;}div.sk-serial::before {content: \"\";position: absolute;border-left: 1px solid gray;box-sizing: border-box;top: 2em;bottom: 0;left: 50%;}div.sk-serial {display: flex;flex-direction: column;align-items: center;background-color: white;}div.sk-item {z-index: 1;}div.sk-parallel {display: flex;align-items: stretch;justify-content: center;background-color: white;}div.sk-parallel-item {display: flex;flex-direction: column;position: relative;background-color: white;}div.sk-parallel-item:first-child::after {align-self: flex-end;width: 50%;}div.sk-parallel-item:last-child::after {align-self: flex-start;width: 50%;}div.sk-parallel-item:only-child::after {width: 0;}div.sk-dashed-wrapped {border: 1px dashed gray;margin: 0.2em;box-sizing: border-box;padding-bottom: 0.1em;background-color: white;position: relative;}div.sk-label label {font-family: monospace;font-weight: bold;background-color: white;display: inline-block;line-height: 1.2em;}div.sk-label-container {position: relative;z-index: 2;text-align: center;}div.sk-container {display: inline-block;position: relative;}</style><div class=\"sk-top-container\"><div class=\"sk-container\"><div class=\"sk-item\"><div class=\"sk-estimator sk-toggleable\"><input class=\"sk-toggleable__control sk-hidden--visually\" id=\"a94fe366-6710-4824-a6ff-b03a88700e1f\" type=\"checkbox\" checked><label class=\"sk-toggleable__label\" for=\"a94fe366-6710-4824-a6ff-b03a88700e1f\">KNeighborsClassifier</label><div class=\"sk-toggleable__content\"><pre>KNeighborsClassifier(n_neighbors=6, weights='distance')</pre></div></div></div></div></div>"
      ],
      "text/plain": [
       "KNeighborsClassifier(n_neighbors=6, weights='distance')"
      ]
     },
     "execution_count": 48,
     "metadata": {},
     "output_type": "execute_result"
    }
   ],
   "source": [
    "# get the best estimator\n",
    "knc_clf = grid_search.best_estimator_\n",
    "knc_clf"
   ]
  },
  {
   "cell_type": "markdown",
   "id": "244f8db7-d33a-4da5-bc6f-94362a0f104d",
   "metadata": {},
   "source": [
    "Best estimator has $k$=6 and distance weights."
   ]
  },
  {
   "cell_type": "markdown",
   "id": "8d457aa6-84c8-45df-8447-33d2980c464e",
   "metadata": {},
   "source": [
    "### Error Analysis"
   ]
  },
  {
   "cell_type": "markdown",
   "id": "705641d2-97d1-4d4c-8947-2f4e507e43d2",
   "metadata": {},
   "source": [
    "Let's use the confusion matrix to see where we're going wrong."
   ]
  },
  {
   "cell_type": "code",
   "execution_count": 49,
   "id": "deeb1457-8ead-4866-bf2d-97848f75d005",
   "metadata": {},
   "outputs": [
    {
     "data": {
      "text/plain": [
       "array([[583,   1,   0,   1,   0,   3,   1,   1,   2,   0],\n",
       "       [  0, 661,   3,   2,   2,   0,   0,   0,   2,   1],\n",
       "       [  6,  26, 484,  22,   4,   1,  11,  14,  12,   1],\n",
       "       [  4,   6,  10, 551,   1,  10,   1,   8,  11,   6],\n",
       "       [  0,  21,   9,   0, 540,   6,   3,   2,   1,  41],\n",
       "       [  5,   6,   1,  20,   6, 444,  10,   1,  13,   8],\n",
       "       [ 10,   3,   4,   0,   4,   8, 578,   0,   1,   0],\n",
       "       [  0,  16,   2,   1,  13,   0,   1, 564,   0,  54],\n",
       "       [  9,  15,   5,  16,   4,  16,   5,   2, 473,   6],\n",
       "       [  4,   2,   4,   6,  14,   1,   1,  29,   3, 537]])"
      ]
     },
     "execution_count": 49,
     "metadata": {},
     "output_type": "execute_result"
    }
   ],
   "source": [
    "y_train_pred = cross_val_predict(knc_clf, X_train_prep, y_train, cv=5)\n",
    "conf_mx = confusion_matrix(y_train, y_train_pred)\n",
    "conf_mx"
   ]
  },
  {
   "cell_type": "code",
   "execution_count": 54,
   "id": "3651024f-ef64-4317-99f1-e24fdd79ff37",
   "metadata": {},
   "outputs": [
    {
     "data": {
      "text/plain": [
       "array([[0.   , 0.001, 0.   , 0.002, 0.   , 0.006, 0.002, 0.002, 0.004,\n",
       "        0.   ],\n",
       "       [0.   , 0.   , 0.005, 0.003, 0.003, 0.   , 0.   , 0.   , 0.004,\n",
       "        0.002],\n",
       "       [0.01 , 0.039, 0.   , 0.036, 0.006, 0.002, 0.018, 0.022, 0.022,\n",
       "        0.002],\n",
       "       [0.007, 0.009, 0.017, 0.   , 0.002, 0.019, 0.002, 0.012, 0.02 ,\n",
       "        0.01 ],\n",
       "       [0.   , 0.031, 0.015, 0.   , 0.   , 0.012, 0.005, 0.003, 0.002,\n",
       "        0.068],\n",
       "       [0.008, 0.009, 0.002, 0.033, 0.01 , 0.   , 0.016, 0.002, 0.024,\n",
       "        0.013],\n",
       "       [0.017, 0.004, 0.007, 0.   , 0.006, 0.016, 0.   , 0.   , 0.002,\n",
       "        0.   ],\n",
       "       [0.   , 0.024, 0.003, 0.002, 0.021, 0.   , 0.002, 0.   , 0.   ,\n",
       "        0.09 ],\n",
       "       [0.015, 0.022, 0.009, 0.026, 0.006, 0.031, 0.008, 0.003, 0.   ,\n",
       "        0.01 ],\n",
       "       [0.007, 0.003, 0.007, 0.01 , 0.022, 0.002, 0.002, 0.045, 0.005,\n",
       "        0.   ]])"
      ]
     },
     "execution_count": 54,
     "metadata": {},
     "output_type": "execute_result"
    }
   ],
   "source": [
    "# noramlise to get error rates\n",
    "row_sums = conf_mx.sum(axis=1)\n",
    "norm_conf_mx = conf_mx / row_sums\n",
    "\n",
    "np.fill_diagonal(norm_conf_mx, 0)\n",
    "norm_conf_mx.round(3)"
   ]
  },
  {
   "cell_type": "code",
   "execution_count": 55,
   "id": "c1dd6ffa-6702-446c-8a53-c2f58bc123b5",
   "metadata": {},
   "outputs": [
    {
     "data": {
      "image/png": "[encoded data removed]",
      "text/plain": [
       "<Figure size 720x720 with 1 Axes>"
      ]
     },
     "metadata": {
      "needs_background": "light"
     },
     "output_type": "display_data"
    }
   ],
   "source": [
    "plt.matshow(norm_conf_mx);"
   ]
  },
  {
   "cell_type": "markdown",
   "id": "53468689-f848-4245-901f-adf00e8c8ae8",
   "metadata": {},
   "source": [
    "It looks like a lot of 4s and 7s are being classified as 9s."
   ]
  },
  {
   "cell_type": "code",
   "execution_count": 60,
   "id": "5a2539ff-86bc-4dae-9998-e9a92b87f0bf",
   "metadata": {},
   "outputs": [
    {
     "data": {
      "text/plain": [
       "array([0.985, 0.985, 0.833, 0.906, 0.867, 0.864, 0.951, 0.866, 0.858,\n",
       "       0.894])"
      ]
     },
     "execution_count": 60,
     "metadata": {},
     "output_type": "execute_result"
    }
   ],
   "source": [
    "# accuracy for each class\n",
    "diag = [conf_mx[i, i] for i in range(conf_mx.shape[0])]\n",
    "row_sums = conf_mx.sum(axis=1)\n",
    "class_acc = diag / row_sums\n",
    "class_acc.round(3)"
   ]
  },
  {
   "cell_type": "markdown",
   "id": "403e2b26-4b8f-4c1c-ba69-5231ced7e6f4",
   "metadata": {},
   "source": [
    "There are some specific problem classes."
   ]
  },
  {
   "cell_type": "markdown",
   "id": "94addca5-0c43-43a1-9b1b-068bf6656ae8",
   "metadata": {},
   "source": [
    "Possible next steps:\n",
    "- Remove 'problem samples'\n",
    "    - E.g. it's possible that samples that are easily confused are having an undue effect\n",
    "- Feature reduction/removal"
   ]
  },
  {
   "cell_type": "markdown",
   "id": "032706fc-d985-42fc-b84f-55d0aa03fa7f",
   "metadata": {},
   "source": [
    "### Removing Samples\n",
    "\n",
    "How to identify problem samples?"
   ]
  },
  {
   "cell_type": "markdown",
   "id": "5a4854eb-8a69-4f75-97fd-c6d48d026de4",
   "metadata": {},
   "source": [
    "The KNN classifier supplies prediction probabilities. One possibility is to remove those where the values are ambiguous.\n",
    "\n",
    "I think it's best to use leave-on-out cross-validation here. It's the best way to accurately gauge the performance on 'new' data."
   ]
  },
  {
   "cell_type": "code",
   "execution_count": 69,
   "id": "ec074df3-2686-4a54-a6d7-cb1ff6c309e3",
   "metadata": {},
   "outputs": [
    {
     "name": "stdout",
     "output_type": "stream",
     "text": [
      "Predict time: 129.9 seconds\n"
     ]
    }
   ],
   "source": [
    "kf = KFold(n_splits=num_samples) # to force non-stratified cross-validation\n",
    "\n",
    "# Fit and time how long it takes\n",
    "start_time = perf_counter()\n",
    "knc_scores = cross_val_predict(knc_clf, X_train_prep, y_train, cv=kf, method=\"predict_proba\")\n",
    "end_time = perf_counter()\n",
    "print(\"Predict time: {:0.1f} seconds\".format(end_time - start_time))"
   ]
  },
  {
   "cell_type": "code",
   "execution_count": 78,
   "id": "81884a83-c2a5-4bc5-a289-d2e140fde83f",
   "metadata": {},
   "outputs": [
    {
     "data": {
      "text/plain": [
       "array([[0.15473276, 0.        , 0.        , 0.67893901, 0.        ,\n",
       "        0.16632823, 0.        , 0.        , 0.        , 0.        ],\n",
       "       [1.        , 0.        , 0.        , 0.        , 0.        ,\n",
       "        0.        , 0.        , 0.        , 0.        , 0.        ],\n",
       "       [0.        , 0.        , 0.        , 0.        , 0.51088539,\n",
       "        0.        , 0.        , 0.16378802, 0.        , 0.32532659],\n",
       "       [0.        , 1.        , 0.        , 0.        , 0.        ,\n",
       "        0.        , 0.        , 0.        , 0.        , 0.        ],\n",
       "       [0.        , 0.        , 0.        , 0.        , 0.        ,\n",
       "        0.        , 0.        , 0.        , 0.        , 1.        ],\n",
       "       [0.        , 0.        , 1.        , 0.        , 0.        ,\n",
       "        0.        , 0.        , 0.        , 0.        , 0.        ],\n",
       "       [0.        , 1.        , 0.        , 0.        , 0.        ,\n",
       "        0.        , 0.        , 0.        , 0.        , 0.        ],\n",
       "       [0.        , 0.        , 0.        , 1.        , 0.        ,\n",
       "        0.        , 0.        , 0.        , 0.        , 0.        ],\n",
       "       [0.        , 1.        , 0.        , 0.        , 0.        ,\n",
       "        0.        , 0.        , 0.        , 0.        , 0.        ],\n",
       "       [0.        , 0.        , 0.        , 0.        , 1.        ,\n",
       "        0.        , 0.        , 0.        , 0.        , 0.        ]])"
      ]
     },
     "execution_count": 78,
     "metadata": {},
     "output_type": "execute_result"
    }
   ],
   "source": [
    "knc_scores[:10, :]"
   ]
  },
  {
   "cell_type": "markdown",
   "id": "ba8a2a81-f8ca-4e08-afd6-48a416b9d389",
   "metadata": {},
   "source": [
    "The predictions are simply the class with the greatest probability."
   ]
  },
  {
   "cell_type": "code",
   "execution_count": 81,
   "id": "472a5838-0393-4337-8b32-f8dd503342ee",
   "metadata": {},
   "outputs": [
    {
     "data": {
      "text/plain": [
       "array([3, 0, 4, 1, 9, 2, 1, 3, 1, 4])"
      ]
     },
     "execution_count": 81,
     "metadata": {},
     "output_type": "execute_result"
    }
   ],
   "source": [
    "np.argmax(knc_scores[:10, :], axis=1)"
   ]
  },
  {
   "cell_type": "code",
   "execution_count": 80,
   "id": "babb94a2-8ee6-41f7-8a54-964b309166bb",
   "metadata": {},
   "outputs": [
    {
     "data": {
      "text/plain": [
       "array([0.67893901, 1.        , 0.51088539, 1.        , 1.        ,\n",
       "       1.        , 1.        , 1.        , 1.        , 1.        ])"
      ]
     },
     "execution_count": 80,
     "metadata": {},
     "output_type": "execute_result"
    }
   ],
   "source": [
    "np.max(knc_scores[:10, :], axis=1)"
   ]
  },
  {
   "cell_type": "markdown",
   "id": "f588cb17-39bf-4ef8-98ae-a270b5d29e12",
   "metadata": {},
   "source": [
    "For 8 of these, the algorithm is certain, for two is isn't. What is the distribution here?"
   ]
  },
  {
   "cell_type": "code",
   "execution_count": 84,
   "id": "fe731e2a-7289-46a0-9c71-7d363ed42380",
   "metadata": {},
   "outputs": [
    {
     "data": {
      "image/png": "[encoded data removed]",
      "text/plain": [
       "<Figure size 1440x720 with 1 Axes>"
      ]
     },
     "metadata": {
      "needs_background": "light"
     },
     "output_type": "display_data"
    }
   ],
   "source": [
    "max_probs = np.max(knc_scores, axis=1)\n",
    "\n",
    "fig, ax = plt.subplots()\n",
    "ax.hist(max_probs);"
   ]
  },
  {
   "cell_type": "code",
   "execution_count": 86,
   "id": "ef18c863-716e-4653-a135-fa9fad66c3f0",
   "metadata": {},
   "outputs": [
    {
     "data": {
      "text/plain": [
       "0.6755"
      ]
     },
     "execution_count": 86,
     "metadata": {},
     "output_type": "execute_result"
    }
   ],
   "source": [
    "(max_probs == 1).sum() / num_samples"
   ]
  },
  {
   "cell_type": "markdown",
   "id": "6b8c9bc5-37cf-49b0-9c0c-40d71b407e99",
   "metadata": {},
   "source": [
    "So 67.5% of the predictions are certain."
   ]
  },
  {
   "cell_type": "code",
   "execution_count": 85,
   "id": "fc7a4c0d-dbdf-4a15-b9b7-8bcc0ac9f007",
   "metadata": {},
   "outputs": [
    {
     "data": {
      "text/plain": [
       "0.814"
      ]
     },
     "execution_count": 85,
     "metadata": {},
     "output_type": "execute_result"
    }
   ],
   "source": [
    "(max_probs >= 0.8).sum() / num_samples"
   ]
  },
  {
   "cell_type": "markdown",
   "id": "8ebdd936-7969-4f88-a221-7244a7a0f79b",
   "metadata": {},
   "source": [
    "81% of the samples have over 80% certainty."
   ]
  },
  {
   "cell_type": "markdown",
   "id": "9a570c07-3a2c-4a9e-99bb-2382449af1e4",
   "metadata": {},
   "source": [
    "Let's plot what proportion of samples have max probability above x."
   ]
  },
  {
   "cell_type": "code",
   "execution_count": 127,
   "id": "b7509705-03c0-4378-89d8-9738fb7fabde",
   "metadata": {},
   "outputs": [
    {
     "data": {
      "image/png": "[encoded data removed]",
      "text/plain": [
       "<Figure size 1440x720 with 1 Axes>"
      ]
     },
     "metadata": {
      "needs_background": "light"
     },
     "output_type": "display_data"
    }
   ],
   "source": [
    "def plot_proportions_above_thresholds(max_probs, bins=100):\n",
    "    # bin according to how many points lie between 2 thresholds\n",
    "    hist, bin_edges = np.histogram(max_probs, bins=bins, range=(0, 1))\n",
    "    \n",
    "    # cumulative sum for how many above threshold\n",
    "    hist_cum = np.cumsum(hist)\n",
    "    \n",
    "    # normalise\n",
    "    hist_cum_norm = hist_cum / len(max_probs)\n",
    "    \n",
    "    fig, ax = plt.subplots()\n",
    "    \n",
    "    plt.plot(bin_edges[:-1], hist_cum_norm)\n",
    "    \n",
    "    ax.set_xlabel('Thresholds')\n",
    "    ax.set_ylabel('Proportion Above Threshold')\n",
    "    \n",
    "    results = 100 * np.c_[bin_edges[:-1], hist_cum_norm].round(3)\n",
    "    \n",
    "    return results\n",
    "\n",
    "\n",
    "results = plot_proportions_above_thresholds(max_probs, bins=100)\n",
    "ax = plt.gca();"
   ]
  },
  {
   "cell_type": "markdown",
   "id": "6d17ec75-fab5-48d0-876c-0a08c955ff4c",
   "metadata": {},
   "source": [
    "Why does it jump like that?"
   ]
  },
  {
   "cell_type": "code",
   "execution_count": 128,
   "id": "93c9e6a0-63d9-4c06-9a92-7f44c4aaa078",
   "metadata": {},
   "outputs": [
    {
     "data": {
      "text/plain": [
       "array([[  0. ,   0. ],\n",
       "       [  1. ,   0. ],\n",
       "       [  2. ,   0. ],\n",
       "       [  3. ,   0. ],\n",
       "       [  4. ,   0. ],\n",
       "       [  5. ,   0. ],\n",
       "       [  6. ,   0. ],\n",
       "       [  7. ,   0. ],\n",
       "       [  8. ,   0. ],\n",
       "       [  9. ,   0. ],\n",
       "       [ 10. ,   0. ],\n",
       "       [ 11. ,   0. ],\n",
       "       [ 12. ,   0. ],\n",
       "       [ 13. ,   0. ],\n",
       "       [ 14. ,   0. ],\n",
       "       [ 15. ,   0. ],\n",
       "       [ 16. ,   0. ],\n",
       "       [ 17. ,   0. ],\n",
       "       [ 18. ,   0. ],\n",
       "       [ 19. ,   0. ],\n",
       "       [ 20. ,   0. ],\n",
       "       [ 21. ,   0. ],\n",
       "       [ 22. ,   0. ],\n",
       "       [ 23. ,   0. ],\n",
       "       [ 24. ,   0. ],\n",
       "       [ 25. ,   0. ],\n",
       "       [ 26. ,   0. ],\n",
       "       [ 27. ,   0. ],\n",
       "       [ 28. ,   0. ],\n",
       "       [ 29. ,   0. ],\n",
       "       [ 30. ,   0. ],\n",
       "       [ 31. ,   0. ],\n",
       "       [ 32. ,   0.2],\n",
       "       [ 33. ,   0.7],\n",
       "       [ 34. ,   1.2],\n",
       "       [ 35. ,   1.4],\n",
       "       [ 36. ,   1.4],\n",
       "       [ 37. ,   1.4],\n",
       "       [ 38. ,   1.4],\n",
       "       [ 39. ,   1.4],\n",
       "       [ 40. ,   1.4],\n",
       "       [ 41. ,   1.4],\n",
       "       [ 42. ,   1.5],\n",
       "       [ 43. ,   1.5],\n",
       "       [ 44. ,   1.5],\n",
       "       [ 45. ,   1.5],\n",
       "       [ 46. ,   1.5],\n",
       "       [ 47. ,   1.6],\n",
       "       [ 48. ,   1.9],\n",
       "       [ 49. ,   3.1],\n",
       "       [ 50. ,   5.8],\n",
       "       [ 51. ,   7. ],\n",
       "       [ 52. ,   7.7],\n",
       "       [ 53. ,   8. ],\n",
       "       [ 54. ,   8.1],\n",
       "       [ 55. ,   8.1],\n",
       "       [ 56. ,   8.2],\n",
       "       [ 57. ,   8.2],\n",
       "       [ 58. ,   8.2],\n",
       "       [ 59. ,   8.2],\n",
       "       [ 60. ,   8.3],\n",
       "       [ 61. ,   8.3],\n",
       "       [ 62. ,   8.3],\n",
       "       [ 63. ,   8.6],\n",
       "       [ 64. ,   9. ],\n",
       "       [ 65. ,  10. ],\n",
       "       [ 66. ,  13.1],\n",
       "       [ 67. ,  15.8],\n",
       "       [ 68. ,  17.4],\n",
       "       [ 69. ,  18.2],\n",
       "       [ 70. ,  18.3],\n",
       "       [ 71. ,  18.4],\n",
       "       [ 72. ,  18.4],\n",
       "       [ 73. ,  18.4],\n",
       "       [ 74. ,  18.4],\n",
       "       [ 75. ,  18.4],\n",
       "       [ 76. ,  18.5],\n",
       "       [ 77. ,  18.5],\n",
       "       [ 78. ,  18.6],\n",
       "       [ 79. ,  18.6],\n",
       "       [ 80. ,  18.7],\n",
       "       [ 81. ,  19.2],\n",
       "       [ 82. ,  20.7],\n",
       "       [ 83. ,  26.7],\n",
       "       [ 84. ,  31.3],\n",
       "       [ 85. ,  32.3],\n",
       "       [ 86. ,  32.4],\n",
       "       [ 87. ,  32.4],\n",
       "       [ 88. ,  32.4],\n",
       "       [ 89. ,  32.4],\n",
       "       [ 90. ,  32.4],\n",
       "       [ 91. ,  32.4],\n",
       "       [ 92. ,  32.4],\n",
       "       [ 93. ,  32.4],\n",
       "       [ 94. ,  32.4],\n",
       "       [ 95. ,  32.4],\n",
       "       [ 96. ,  32.4],\n",
       "       [ 97. ,  32.4],\n",
       "       [ 98. ,  32.4],\n",
       "       [ 99. , 100. ]])"
      ]
     },
     "execution_count": 128,
     "metadata": {},
     "output_type": "execute_result"
    }
   ],
   "source": [
    "results"
   ]
  },
  {
   "cell_type": "markdown",
   "id": "f4f260c1-d1fb-47a1-8abb-6d8cfebe43d8",
   "metadata": {},
   "source": [
    "Plan: Train on only those samples which have prediction probability > 75%"
   ]
  },
  {
   "cell_type": "code",
   "execution_count": 144,
   "id": "76af394e-5cf2-428c-ab80-5e5351b36aac",
   "metadata": {},
   "outputs": [],
   "source": [
    "X_train_prep_red = X_train_prep[(max_probs >= 0.75)]\n",
    "y_train_red = y_train[(max_probs >= 0.75)]\n",
    "\n",
    "X_train_prep_excl = X_train_prep[(max_probs < 0.75)]\n",
    "y_train_excl = y_train[(max_probs < 0.75)]"
   ]
  },
  {
   "cell_type": "code",
   "execution_count": 135,
   "id": "af16eefc-c036-4293-bf78-fe361f10639d",
   "metadata": {},
   "outputs": [
    {
     "data": {
      "text/plain": [
       "0     9.4\n",
       "1    11.0\n",
       "2     6.9\n",
       "3     8.0\n",
       "4     8.0\n",
       "5     6.2\n",
       "6     9.3\n",
       "7     8.4\n",
       "8     6.6\n",
       "9     7.7\n",
       "Name: class, dtype: float64"
      ]
     },
     "execution_count": 135,
     "metadata": {},
     "output_type": "execute_result"
    }
   ],
   "source": [
    "# Is the sample still balanced?\n",
    "class_counts = y_train_red.value_counts().sort_index()\n",
    "class_pcts = 100 * class_counts / num_samples\n",
    "class_pcts.round(1)"
   ]
  },
  {
   "cell_type": "markdown",
   "id": "66c5c570-5a3b-4494-b649-494814b79390",
   "metadata": {},
   "source": [
    "#### Testing"
   ]
  },
  {
   "cell_type": "code",
   "execution_count": 134,
   "id": "f8973e1a-a070-47c0-a061-7a4d14714dba",
   "metadata": {},
   "outputs": [
    {
     "name": "stdout",
     "output_type": "stream",
     "text": [
      "Grid search run time: 24.1 seconds\n"
     ]
    }
   ],
   "source": [
    "# hyperparams to try\n",
    "param_grid = [\n",
    "    {\"n_neighbors\": [3, 4, 5, 6, 7], \"weights\": [\"uniform\", \"distance\"]}\n",
    "]\n",
    "\n",
    "# Initialise grid search\n",
    "grid_search = GridSearchCV(\n",
    "    knc_clf,\n",
    "    param_grid,\n",
    "    scoring=\"accuracy\",\n",
    "    cv=5,\n",
    "    return_train_score=True,\n",
    "    refit=True,\n",
    ")\n",
    "\n",
    "# Fit and time how long it takes\n",
    "start_time = perf_counter()\n",
    "grid_search.fit(X_train_prep_red, y_train_red)\n",
    "end_time = perf_counter()\n",
    "print(\"Grid search run time: {:0.1f} seconds\".format(end_time - start_time))"
   ]
  },
  {
   "cell_type": "markdown",
   "id": "79c6ec02-3766-488a-9bd5-085c3f1b7da1",
   "metadata": {},
   "source": [
    "Note that this is only training and testing on the 'easy samples'"
   ]
  },
  {
   "cell_type": "code",
   "execution_count": 136,
   "id": "e4dbcb00-1b3c-4eb0-8103-58e5c359afc6",
   "metadata": {},
   "outputs": [
    {
     "data": {
      "text/html": [
       "<div>\n",
       "<style scoped>\n",
       "    .dataframe tbody tr th:only-of-type {\n",
       "        vertical-align: middle;\n",
       "    }\n",
       "\n",
       "    .dataframe tbody tr th {\n",
       "        vertical-align: top;\n",
       "    }\n",
       "\n",
       "    .dataframe thead th {\n",
       "        text-align: right;\n",
       "    }\n",
       "</style>\n",
       "<table border=\"1\" class=\"dataframe\">\n",
       "  <thead>\n",
       "    <tr style=\"text-align: right;\">\n",
       "      <th></th>\n",
       "      <th>n_neighbors</th>\n",
       "      <th>weights</th>\n",
       "      <th>mean_train_score</th>\n",
       "      <th>mean_test_score</th>\n",
       "    </tr>\n",
       "  </thead>\n",
       "  <tbody>\n",
       "    <tr>\n",
       "      <th>1</th>\n",
       "      <td>3</td>\n",
       "      <td>distance</td>\n",
       "      <td>1.000</td>\n",
       "      <td>0.964</td>\n",
       "    </tr>\n",
       "    <tr>\n",
       "      <th>0</th>\n",
       "      <td>3</td>\n",
       "      <td>uniform</td>\n",
       "      <td>0.971</td>\n",
       "      <td>0.963</td>\n",
       "    </tr>\n",
       "    <tr>\n",
       "      <th>3</th>\n",
       "      <td>4</td>\n",
       "      <td>distance</td>\n",
       "      <td>1.000</td>\n",
       "      <td>0.963</td>\n",
       "    </tr>\n",
       "    <tr>\n",
       "      <th>7</th>\n",
       "      <td>6</td>\n",
       "      <td>distance</td>\n",
       "      <td>1.000</td>\n",
       "      <td>0.961</td>\n",
       "    </tr>\n",
       "    <tr>\n",
       "      <th>2</th>\n",
       "      <td>4</td>\n",
       "      <td>uniform</td>\n",
       "      <td>0.969</td>\n",
       "      <td>0.960</td>\n",
       "    </tr>\n",
       "    <tr>\n",
       "      <th>5</th>\n",
       "      <td>5</td>\n",
       "      <td>distance</td>\n",
       "      <td>1.000</td>\n",
       "      <td>0.960</td>\n",
       "    </tr>\n",
       "    <tr>\n",
       "      <th>4</th>\n",
       "      <td>5</td>\n",
       "      <td>uniform</td>\n",
       "      <td>0.966</td>\n",
       "      <td>0.959</td>\n",
       "    </tr>\n",
       "    <tr>\n",
       "      <th>9</th>\n",
       "      <td>7</td>\n",
       "      <td>distance</td>\n",
       "      <td>1.000</td>\n",
       "      <td>0.956</td>\n",
       "    </tr>\n",
       "    <tr>\n",
       "      <th>6</th>\n",
       "      <td>6</td>\n",
       "      <td>uniform</td>\n",
       "      <td>0.965</td>\n",
       "      <td>0.955</td>\n",
       "    </tr>\n",
       "    <tr>\n",
       "      <th>8</th>\n",
       "      <td>7</td>\n",
       "      <td>uniform</td>\n",
       "      <td>0.964</td>\n",
       "      <td>0.955</td>\n",
       "    </tr>\n",
       "  </tbody>\n",
       "</table>\n",
       "</div>"
      ],
      "text/plain": [
       "   n_neighbors   weights  mean_train_score  mean_test_score\n",
       "1            3  distance             1.000            0.964\n",
       "0            3   uniform             0.971            0.963\n",
       "3            4  distance             1.000            0.963\n",
       "7            6  distance             1.000            0.961\n",
       "2            4   uniform             0.969            0.960\n",
       "5            5  distance             1.000            0.960\n",
       "4            5   uniform             0.966            0.959\n",
       "9            7  distance             1.000            0.956\n",
       "6            6   uniform             0.965            0.955\n",
       "8            7   uniform             0.964            0.955"
      ]
     },
     "execution_count": 136,
     "metadata": {},
     "output_type": "execute_result"
    }
   ],
   "source": [
    "cv_results = grid_search.cv_results_\n",
    "cv_summary = generate_grid_search_cv_summary(cv_results)\n",
    "cv_summary"
   ]
  },
  {
   "cell_type": "markdown",
   "id": "bd1a62a7-5229-4425-ad90-6eb387755cbd",
   "metadata": {},
   "source": [
    "This improved performance a lot. But how will it now perform on the excluded samples?"
   ]
  },
  {
   "cell_type": "code",
   "execution_count": 137,
   "id": "4b108767-10a4-4c56-9e9f-ac3ec4f6115c",
   "metadata": {},
   "outputs": [
    {
     "data": {
      "text/html": [
       "<style>div.sk-top-container {color: black;background-color: white;}div.sk-toggleable {background-color: white;}label.sk-toggleable__label {cursor: pointer;display: block;width: 100%;margin-bottom: 0;padding: 0.2em 0.3em;box-sizing: border-box;text-align: center;}div.sk-toggleable__content {max-height: 0;max-width: 0;overflow: hidden;text-align: left;background-color: #f0f8ff;}div.sk-toggleable__content pre {margin: 0.2em;color: black;border-radius: 0.25em;background-color: #f0f8ff;}input.sk-toggleable__control:checked~div.sk-toggleable__content {max-height: 200px;max-width: 100%;overflow: auto;}div.sk-estimator input.sk-toggleable__control:checked~label.sk-toggleable__label {background-color: #d4ebff;}div.sk-label input.sk-toggleable__control:checked~label.sk-toggleable__label {background-color: #d4ebff;}input.sk-hidden--visually {border: 0;clip: rect(1px 1px 1px 1px);clip: rect(1px, 1px, 1px, 1px);height: 1px;margin: -1px;overflow: hidden;padding: 0;position: absolute;width: 1px;}div.sk-estimator {font-family: monospace;background-color: #f0f8ff;margin: 0.25em 0.25em;border: 1px dotted black;border-radius: 0.25em;box-sizing: border-box;}div.sk-estimator:hover {background-color: #d4ebff;}div.sk-parallel-item::after {content: \"\";width: 100%;border-bottom: 1px solid gray;flex-grow: 1;}div.sk-label:hover label.sk-toggleable__label {background-color: #d4ebff;}div.sk-serial::before {content: \"\";position: absolute;border-left: 1px solid gray;box-sizing: border-box;top: 2em;bottom: 0;left: 50%;}div.sk-serial {display: flex;flex-direction: column;align-items: center;background-color: white;}div.sk-item {z-index: 1;}div.sk-parallel {display: flex;align-items: stretch;justify-content: center;background-color: white;}div.sk-parallel-item {display: flex;flex-direction: column;position: relative;background-color: white;}div.sk-parallel-item:first-child::after {align-self: flex-end;width: 50%;}div.sk-parallel-item:last-child::after {align-self: flex-start;width: 50%;}div.sk-parallel-item:only-child::after {width: 0;}div.sk-dashed-wrapped {border: 1px dashed gray;margin: 0.2em;box-sizing: border-box;padding-bottom: 0.1em;background-color: white;position: relative;}div.sk-label label {font-family: monospace;font-weight: bold;background-color: white;display: inline-block;line-height: 1.2em;}div.sk-label-container {position: relative;z-index: 2;text-align: center;}div.sk-container {display: inline-block;position: relative;}</style><div class=\"sk-top-container\"><div class=\"sk-container\"><div class=\"sk-item\"><div class=\"sk-estimator sk-toggleable\"><input class=\"sk-toggleable__control sk-hidden--visually\" id=\"c7b8d414-2a31-4a92-82d1-3e2d178a4d00\" type=\"checkbox\" checked><label class=\"sk-toggleable__label\" for=\"c7b8d414-2a31-4a92-82d1-3e2d178a4d00\">KNeighborsClassifier</label><div class=\"sk-toggleable__content\"><pre>KNeighborsClassifier(n_neighbors=3, weights='distance')</pre></div></div></div></div></div>"
      ],
      "text/plain": [
       "KNeighborsClassifier(n_neighbors=3, weights='distance')"
      ]
     },
     "execution_count": 137,
     "metadata": {},
     "output_type": "execute_result"
    }
   ],
   "source": [
    "knc_clf = grid_search.best_estimator_\n",
    "knc_clf"
   ]
  },
  {
   "cell_type": "code",
   "execution_count": 147,
   "id": "11d2ade9-6520-43a4-b13e-bd1e89e9a8e2",
   "metadata": {},
   "outputs": [
    {
     "data": {
      "text/plain": [
       "0.5537488708220416"
      ]
     },
     "execution_count": 147,
     "metadata": {},
     "output_type": "execute_result"
    }
   ],
   "source": [
    "y_train_excl_pred = knc_clf.predict(X_train_prep_excl)\n",
    "accuracy_score(y_train_excl, y_train_excl_pred)"
   ]
  },
  {
   "cell_type": "markdown",
   "id": "0e7e898c-6f77-4251-a5fc-226f41a5561c",
   "metadata": {},
   "source": [
    "This does extremely badly on the excluded samples.\n",
    "\n",
    "I guess that we removed the most ambiguous samples, so it now doesn't know how to deal with those examples."
   ]
  },
  {
   "cell_type": "markdown",
   "id": "5d93bda3-0ce6-406a-b97f-589c112cb220",
   "metadata": {},
   "source": [
    "#### Reflection"
   ]
  },
  {
   "cell_type": "markdown",
   "id": "e3d5171e-b48e-4c00-8fe3-ee0d9eddcdc4",
   "metadata": {},
   "source": [
    "This approach didn't work at all. I think that the idea of removing particularly ambiguous images (for example those that a human couldn't classify) is valuable, but this approach to selecting them just removes all that are even a little ambiguous. Not only does this remove a lot more for particular classes, it also means that the model has never seen an ambiguous image before."
   ]
  },
  {
   "cell_type": "markdown",
   "id": "69a182ae-8ad0-476a-b82b-2ab9d602bcbf",
   "metadata": {},
   "source": [
    "#### Another Attempt"
   ]
  },
  {
   "cell_type": "markdown",
   "id": "ece2b7db-9bf2-41ef-8d3d-dd5c41110b18",
   "metadata": {},
   "source": [
    "What if we try this again for a different threshold."
   ]
  },
  {
   "cell_type": "code",
   "execution_count": 155,
   "id": "e2e688d2-d202-4952-9d7f-038682643524",
   "metadata": {},
   "outputs": [
    {
     "name": "stdout",
     "output_type": "stream",
     "text": [
      "Mean CV Accuracy: 0.91\n",
      "Excl. Accuracy: 0.33\n",
      "Weighted Avg. Accuracy: 0.90\n"
     ]
    }
   ],
   "source": [
    "# get reduced data\n",
    "threshold = 0.4\n",
    "\n",
    "X_train_prep_red = X_train_prep[(max_probs >= threshold)]\n",
    "y_train_red = y_train[(max_probs >= threshold)]\n",
    "num_samples_red = len(y_train_red)\n",
    "\n",
    "X_train_prep_excl = X_train_prep[(max_probs < threshold)]\n",
    "y_train_excl = y_train[(max_probs < threshold)]\n",
    "num_samples_excl = len(y_train_excl)\n",
    "\n",
    "# just choose some reasonable hyperparams\n",
    "knc_clf = KNeighborsClassifier(n_neighbors=5, weights=\"distance\")\n",
    "\n",
    "# Do cross validation\n",
    "cv_scores = cross_val_score(\n",
    "    knc_clf,\n",
    "    X_train_prep_red,\n",
    "    y_train_red,\n",
    "    scoring=\"accuracy\",\n",
    "    cv=5\n",
    ")\n",
    "mean_red_score = cv_scores.mean()\n",
    "print(\"Mean CV Accuracy: {:.2f}\".format(mean_red_score))\n",
    "\n",
    "# now test on excluded samples\n",
    "knc_clf.fit(X_train_prep_red, y_train_red)\n",
    "y_train_excl_pred = knc_clf.predict(X_train_prep_excl)\n",
    "excl_score = accuracy_score(y_train_excl, y_train_excl_pred)\n",
    "print(\"Excl. Accuracy: {:.2f}\".format(excl_score))\n",
    "\n",
    "weighted_avg_score = (mean_red_score * num_samples_red + excl_score * num_samples_excl) / num_samples\n",
    "print(\"Weighted Avg. Accuracy: {:.2f}\".format(weighted_avg_score))"
   ]
  },
  {
   "cell_type": "markdown",
   "id": "dff121e7-fc9d-431d-a1a3-24734f9bdd2d",
   "metadata": {},
   "source": [
    "So there is no improvement overall."
   ]
  },
  {
   "cell_type": "code",
   "execution_count": null,
   "id": "a59585a4-558b-4d41-ba9a-b90a529e875a",
   "metadata": {},
   "outputs": [],
   "source": []
  }
 ],
 "metadata": {
  "kernelspec": {
   "display_name": "Python 3",
   "language": "python",
   "name": "python3"
  },
  "language_info": {
   "codemirror_mode": {
    "name": "ipython",
    "version": 3
   },
   "file_extension": ".py",
   "mimetype": "text/x-python",
   "name": "python",
   "nbconvert_exporter": "python",
   "pygments_lexer": "ipython3",
   "version": "3.7.7"
  },
  "toc-autonumbering": false,
  "toc-showcode": false,
  "toc-showmarkdowntxt": false,
  "toc-showtags": false
 },
 "nbformat": 4,
 "nbformat_minor": 5
}
