{
 "cells": [
  {
   "cell_type": "markdown",
   "id": "27ec4eb5-28ec-48c7-8997-f0785553d76f",
   "metadata": {},
   "source": [
    "# 8. Dimensionality Reduction\n",
    "\n",
    "- Reducing the number of features can massively speed up training\n",
    "- Sometimes it will also improve performance, but in general it won't\n",
    "- Dimensionality reduction is also usual for data visualisation"
   ]
  },
  {
   "cell_type": "code",
   "execution_count": 3,
   "id": "de77f574-1aa2-49d7-9182-239858826625",
   "metadata": {},
   "outputs": [],
   "source": [
    "import numpy as np\n",
    "import pandas as pd\n",
    "from matplotlib import pyplot as plt\n",
    "\n",
    "plt.rcParams.update({\"figure.figsize\" : (10, 8), \"font.size\": 16})"
   ]
  },
  {
   "cell_type": "markdown",
   "id": "0da9038c-619e-4f02-a83d-71d8416f982e",
   "metadata": {},
   "source": [
    "## The Curse of Dimensionality\n",
    "\n",
    "- In high dimensions, data points are more likely to be close to a boundary and are much futher away from each other on average\n",
    "- so high-dimensional data sets are sparser and making predictions involves more extrapolation\n",
    "- The more dimensions, the greater the risk of overfitting\n",
    "- To maintain given density, training set size has to scale exponentially with dimensions"
   ]
  },
  {
   "cell_type": "markdown",
   "id": "335d969a-a2a2-4c46-b04a-53ebf1cadf59",
   "metadata": {},
   "source": [
    "## Main Approaches for Dimensionality Reduction\n",
    "\n",
    "**Projection:** onto a lower-dimensional linear subspace.\n",
    "\n",
    "**Manifold Learning**\n",
    "- *Manifold assumption/hypothesis:* most real-world high-dimensional datasets lie close to a much lower-dimensional manifold\n",
    "- Manifold learning works by modelling the manifold on which the training instances lie\n",
    "- The implicit assumption is that the task will also be simpler if expressed in the lower-dimensional space of the manifold (not always true)"
   ]
  },
  {
   "cell_type": "code",
   "execution_count": null,
   "id": "a430c928-42e4-4242-99aa-628cf4f948e9",
   "metadata": {},
   "outputs": [],
   "source": []
  }
 ],
 "metadata": {
  "kernelspec": {
   "display_name": "Python 3",
   "language": "python",
   "name": "python3"
  },
  "language_info": {
   "codemirror_mode": {
    "name": "ipython",
    "version": 3
   },
   "file_extension": ".py",
   "mimetype": "text/x-python",
   "name": "python",
   "nbconvert_exporter": "python",
   "pygments_lexer": "ipython3",
   "version": "3.7.7"
  }
 },
 "nbformat": 4,
 "nbformat_minor": 5
}
